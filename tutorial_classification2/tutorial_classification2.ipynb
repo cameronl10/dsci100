{
 "cells": [
  {
   "cell_type": "markdown",
   "metadata": {
    "deletable": false,
    "editable": false,
    "nbgrader": {
     "cell_type": "markdown",
     "checksum": "5d1efc15d6a99644ee6e1e7d02ca566b",
     "grade": false,
     "grade_id": "cell-27916401df9a371b",
     "locked": true,
     "schema_version": 3,
     "solution": false
    }
   },
   "source": [
    "# Tutorial 7: Classification (Part II)\n",
    "\n",
    "### Lecture and Tutorial Learning Goals:\n",
    "\n",
    "After completing this week's lecture and tutorial work, you will be able to:\n",
    "\n",
    "* Describe what a test data set is and how it is used in classification.\n",
    "* Using R, evaluate classification accuracy using a test data set and appropriate metrics.\n",
    "* Using R, execute cross validation in R to choose the number of neighbours.\n",
    "* Identify when it is necessary to scale variables before classification and do this using R\n",
    "* In a dataset with > 2 attributes, perform k-nearest neighbour classification in R using the `tidymodels` package to predict the class of a test dataset.\n",
    "* Describe advantages and disadvantages of the k-nearest neighbour classification algorithm.\n"
   ]
  },
  {
   "cell_type": "markdown",
   "metadata": {
    "deletable": false,
    "editable": false,
    "nbgrader": {
     "cell_type": "markdown",
     "checksum": "9bc543e9541519c9d3be5ead600a8e66",
     "grade": false,
     "grade_id": "cell-c1769cb5e6a8eb33",
     "locked": true,
     "schema_version": 3,
     "solution": false
    }
   },
   "source": [
    "## Handwritten Digit Classification using R\n",
    "\n",
    "<img src=\"https://media.giphy.com/media/UwrdbvJz1CNck/giphy.gif\" width = \"600\"/>\n",
    "\n",
    "Source: https://media.giphy.com/media/UwrdbvJz1CNck/giphy.gif\n",
    "\n",
    "MNIST is a computer vision dataset that consists of images of handwritten digits like these:\n",
    "\n",
    "![](img/MNIST.png)\n",
    "\n",
    "It also includes labels for each image, telling us which digit it is. For example, the labels for the above images are 5, 0, 4, and 1.\n",
    "\n",
    "\n",
    "In this tutorial, we’re going to train a classifier to look at images and predict what digits they are. Our goal isn’t to train a really elaborate model that achieves state-of-the-art performance, but rather to dip a toe into using classification with pixelated images. As such, we’re going to keep working with the simple K-nearest neighbour classifier we have been exploring in the last two weeks.\n",
    "\n",
    "\n",
    "\n",
    "### Using image data for classification\n",
    "\n",
    "As mentioned earlier, every MNIST data point has two parts: an image of a handwritten digit and a corresponding label. Both the training set and test set contain images and their corresponding labels.\n",
    "\n",
    "Each image is 28 pixels by 28 pixels. We can interpret this as a big matrix of numbers:\n",
    "\n",
    "<img src=\"img/MNIST-Matrix.png\" width = \"500\"/>\n",
    "\n",
    "\n",
    "We can flatten this matrix into a vector of 28x28 = 784 numbers and give it a class label (here 1 for the number one). It doesn’t matter how we flatten the array, as long as we’re consistent between images. From this perspective, the MNIST images are just a bunch of points in a 784-dimensional vector space, with a very rich structure.\n",
    "\n",
    "<img src=\"img/matrix_to_row.png\" width = \"1000\"/>\n",
    "\n",
    "\n",
    "We do this for every image of the digits we have, and we create a data table like the one shown below that we can use for classification. Note, like any other classification problem that we have seen before, we need many observations for each class. This problem is also a bit different from the first classification problem we have encountered (Wisonsin breast cancer data set), in that we have more than two classes (here we have 10 classes, one for each digit from 0 to 9).\n",
    "\n",
    "<img src=\"img/data_table.png\" width = \"700\"/>\n",
    "\n",
    "This information is taken from: https://tensorflow.rstudio.com/tensorflow/articles/tutorial_mnist_beginners.html"
   ]
  },
  {
   "cell_type": "code",
   "execution_count": 1,
   "metadata": {
    "deletable": false,
    "editable": false,
    "nbgrader": {
     "cell_type": "code",
     "checksum": "61da454c726004e08a080f6790e7cd59",
     "grade": false,
     "grade_id": "cell-dca968079f2b9290",
     "locked": true,
     "schema_version": 3,
     "solution": false,
     "task": false
    }
   },
   "outputs": [
    {
     "name": "stderr",
     "output_type": "stream",
     "text": [
      "── \u001b[1mAttaching packages\u001b[22m ─────────────────────────────────────── tidyverse 1.3.1 ──\n",
      "\n",
      "\u001b[32m✔\u001b[39m \u001b[34mggplot2\u001b[39m 3.3.6     \u001b[32m✔\u001b[39m \u001b[34mpurrr  \u001b[39m 0.3.4\n",
      "\u001b[32m✔\u001b[39m \u001b[34mtibble \u001b[39m 3.1.7     \u001b[32m✔\u001b[39m \u001b[34mdplyr  \u001b[39m 1.0.9\n",
      "\u001b[32m✔\u001b[39m \u001b[34mtidyr  \u001b[39m 1.2.0     \u001b[32m✔\u001b[39m \u001b[34mstringr\u001b[39m 1.4.0\n",
      "\u001b[32m✔\u001b[39m \u001b[34mreadr  \u001b[39m 2.1.2     \u001b[32m✔\u001b[39m \u001b[34mforcats\u001b[39m 0.5.1\n",
      "\n",
      "── \u001b[1mConflicts\u001b[22m ────────────────────────────────────────── tidyverse_conflicts() ──\n",
      "\u001b[31m✖\u001b[39m \u001b[34mdplyr\u001b[39m::\u001b[32mfilter()\u001b[39m masks \u001b[34mstats\u001b[39m::filter()\n",
      "\u001b[31m✖\u001b[39m \u001b[34mdplyr\u001b[39m::\u001b[32mlag()\u001b[39m    masks \u001b[34mstats\u001b[39m::lag()\n",
      "\n",
      "── \u001b[1mAttaching packages\u001b[22m ────────────────────────────────────── tidymodels 1.0.0 ──\n",
      "\n",
      "\u001b[32m✔\u001b[39m \u001b[34mbroom       \u001b[39m 1.0.0     \u001b[32m✔\u001b[39m \u001b[34mrsample     \u001b[39m 1.0.0\n",
      "\u001b[32m✔\u001b[39m \u001b[34mdials       \u001b[39m 1.0.0     \u001b[32m✔\u001b[39m \u001b[34mtune        \u001b[39m 1.0.0\n",
      "\u001b[32m✔\u001b[39m \u001b[34minfer       \u001b[39m 1.0.2     \u001b[32m✔\u001b[39m \u001b[34mworkflows   \u001b[39m 1.0.0\n",
      "\u001b[32m✔\u001b[39m \u001b[34mmodeldata   \u001b[39m 1.0.0     \u001b[32m✔\u001b[39m \u001b[34mworkflowsets\u001b[39m 1.0.0\n",
      "\u001b[32m✔\u001b[39m \u001b[34mparsnip     \u001b[39m 1.0.0     \u001b[32m✔\u001b[39m \u001b[34myardstick   \u001b[39m 1.0.0\n",
      "\u001b[32m✔\u001b[39m \u001b[34mrecipes     \u001b[39m 1.0.1     \n",
      "\n",
      "── \u001b[1mConflicts\u001b[22m ───────────────────────────────────────── tidymodels_conflicts() ──\n",
      "\u001b[31m✖\u001b[39m \u001b[34mscales\u001b[39m::\u001b[32mdiscard()\u001b[39m masks \u001b[34mpurrr\u001b[39m::discard()\n",
      "\u001b[31m✖\u001b[39m \u001b[34mdplyr\u001b[39m::\u001b[32mfilter()\u001b[39m   masks \u001b[34mstats\u001b[39m::filter()\n",
      "\u001b[31m✖\u001b[39m \u001b[34mrecipes\u001b[39m::\u001b[32mfixed()\u001b[39m  masks \u001b[34mstringr\u001b[39m::fixed()\n",
      "\u001b[31m✖\u001b[39m \u001b[34mdplyr\u001b[39m::\u001b[32mlag()\u001b[39m      masks \u001b[34mstats\u001b[39m::lag()\n",
      "\u001b[31m✖\u001b[39m \u001b[34myardstick\u001b[39m::\u001b[32mspec()\u001b[39m masks \u001b[34mreadr\u001b[39m::spec()\n",
      "\u001b[31m✖\u001b[39m \u001b[34mrecipes\u001b[39m::\u001b[32mstep()\u001b[39m   masks \u001b[34mstats\u001b[39m::step()\n",
      "\u001b[34m•\u001b[39m Use \u001b[32mtidymodels_prefer()\u001b[39m to resolve common conflicts.\n",
      "\n",
      "\n",
      "Attaching package: ‘testthat’\n",
      "\n",
      "\n",
      "The following object is masked from ‘package:rsample’:\n",
      "\n",
      "    matches\n",
      "\n",
      "\n",
      "The following object is masked from ‘package:dplyr’:\n",
      "\n",
      "    matches\n",
      "\n",
      "\n",
      "The following object is masked from ‘package:purrr’:\n",
      "\n",
      "    is_null\n",
      "\n",
      "\n",
      "The following objects are masked from ‘package:readr’:\n",
      "\n",
      "    edition_get, local_edition\n",
      "\n",
      "\n",
      "The following object is masked from ‘package:tidyr’:\n",
      "\n",
      "    matches\n",
      "\n",
      "\n",
      "\n",
      "Attaching package: ‘rlang’\n",
      "\n",
      "\n",
      "The following objects are masked from ‘package:testthat’:\n",
      "\n",
      "    is_false, is_null, is_true\n",
      "\n",
      "\n",
      "The following objects are masked from ‘package:purrr’:\n",
      "\n",
      "    %@%, as_function, flatten, flatten_chr, flatten_dbl, flatten_int,\n",
      "    flatten_lgl, flatten_raw, invoke, splice\n",
      "\n",
      "\n"
     ]
    }
   ],
   "source": [
    "###\n",
    "### Run this cell before continuing.\n",
    "###\n",
    "\n",
    "library(repr)\n",
    "library(tidyverse)\n",
    "library(tidymodels)\n",
    "options(repr.matrix.max.rows = 6)\n",
    "source('tests.R')\n",
    "source(\"cleanup.R\")\n",
    "\n",
    "# functions needed to work with images\n",
    "# code below sourced from: https://gist.github.com/daviddalpiaz/ae62ae5ccd0bada4b9acd6dbc9008706\n",
    "# helper function for visualization\n",
    "show_digit = function(arr784, col = gray(12:1 / 12), ...) {\n",
    "  arr784$X <- 0  # avoid dark pixel in top left\n",
    "  image(matrix(as.matrix(arr784[-785]), nrow = 28)[, 28:1], col = col, ...)\n",
    "}"
   ]
  },
  {
   "cell_type": "markdown",
   "metadata": {
    "deletable": false,
    "editable": false,
    "nbgrader": {
     "cell_type": "markdown",
     "checksum": "87fee6a95d6c99faa7fab1869e43363a",
     "grade": false,
     "grade_id": "cell-35fb4efefa543a62",
     "locked": true,
     "schema_version": 3,
     "solution": false
    }
   },
   "source": [
    "**Question 1.0** Multiple Choice:\n",
    "<br> {points: 1}\n",
    "\n",
    "How many rows and columns does the array of an image have?\n",
    "\n",
    "A. 784 columns and 1 row\n",
    "\n",
    "B. 28 columns and 1 row\n",
    "\n",
    "C. 18 columns and 18 rows\n",
    "\n",
    "D. 28 columns and 28 rows \n",
    "\n",
    "*Assign your answer to an object called `answer1.0`. Make sure the correct answer is an uppercase letter and to surround your answer with quotation marks (e.g. `\"F\"`).*"
   ]
  },
  {
   "cell_type": "code",
   "execution_count": 2,
   "metadata": {
    "deletable": false,
    "nbgrader": {
     "cell_type": "code",
     "checksum": "da6ac286864840dd4bc529c2fa62b852",
     "grade": false,
     "grade_id": "cell-fd1b70ee04a1b142",
     "locked": false,
     "schema_version": 3,
     "solution": true
    }
   },
   "outputs": [],
   "source": [
    "# Replace the fail() with your answer. \n",
    "answer1.0 = \"D\"\n",
    "# your code here\n",
    "# No Answer - remove if you provide an answer"
   ]
  },
  {
   "cell_type": "code",
   "execution_count": 3,
   "metadata": {
    "deletable": false,
    "editable": false,
    "nbgrader": {
     "cell_type": "code",
     "checksum": "73edb8ca7f26a36f80bb4be919a92b2e",
     "grade": true,
     "grade_id": "cell-d3de0b488458b8ec",
     "locked": true,
     "points": 1,
     "schema_version": 3,
     "solution": false
    }
   },
   "outputs": [
    {
     "name": "stdout",
     "output_type": "stream",
     "text": [
      "\u001b[32mTest passed\u001b[39m 🥳\n",
      "[1] \"Success!\"\n"
     ]
    }
   ],
   "source": [
    "test_1.0()"
   ]
  },
  {
   "cell_type": "markdown",
   "metadata": {
    "deletable": false,
    "editable": false,
    "nbgrader": {
     "cell_type": "markdown",
     "checksum": "6fdd98a139dc5dfc590898e3b4a20516",
     "grade": false,
     "grade_id": "cell-311b84a1ac4cb261",
     "locked": true,
     "schema_version": 3,
     "solution": false,
     "task": false
    }
   },
   "source": [
    "**Question 1.1** Multiple Choice: \n",
    "<br> {points: 1}\n",
    "\n",
    "Once we linearize the array, how many rows represent a number?\n",
    "\n",
    "A. 28\n",
    "\n",
    "B. 784\n",
    "\n",
    "C. 1\n",
    "\n",
    "D. 18\n",
    "\n",
    "*Assign your answer to an object called `answer1.1`. Make sure the correct answer is an uppercase letter and to surround your answer with quotation marks (e.g. `\"F\"`).*"
   ]
  },
  {
   "cell_type": "code",
   "execution_count": 4,
   "metadata": {
    "deletable": false,
    "nbgrader": {
     "cell_type": "code",
     "checksum": "9976fbe7d9c4aac1d2f914cb161c9858",
     "grade": false,
     "grade_id": "cell-7df0a0a195a36b7b",
     "locked": false,
     "schema_version": 3,
     "solution": true
    }
   },
   "outputs": [],
   "source": [
    "# Replace the fail() with your answer. \n",
    "answer1.1 = \"C\"\n",
    "# your code here\n",
    " # No Answer - remove if you provide an answer"
   ]
  },
  {
   "cell_type": "code",
   "execution_count": 5,
   "metadata": {
    "deletable": false,
    "editable": false,
    "nbgrader": {
     "cell_type": "code",
     "checksum": "567abaaad2b2f1b1215ff72b5c1dc8d3",
     "grade": true,
     "grade_id": "cell-06400b9b6a219006",
     "locked": true,
     "points": 1,
     "schema_version": 3,
     "solution": false
    }
   },
   "outputs": [
    {
     "name": "stdout",
     "output_type": "stream",
     "text": [
      "\u001b[32mTest passed\u001b[39m 😀\n",
      "[1] \"Success!\"\n"
     ]
    }
   ],
   "source": [
    "test_1.1()"
   ]
  },
  {
   "cell_type": "markdown",
   "metadata": {
    "deletable": false,
    "editable": false,
    "nbgrader": {
     "cell_type": "markdown",
     "checksum": "0076ed677c6b622316eee110dde5239e",
     "grade": false,
     "grade_id": "cell-bc4a503b8cd8de26",
     "locked": true,
     "schema_version": 3,
     "solution": false
    }
   },
   "source": [
    "## 2. Exploring the Data\n",
    "\n",
    "Before we move on to do the modeling component, it is always required that we take a look at our data and understand the problem and the structure of the data well. We can start this part by loading the images and taking a look at the first rows of the dataset. You can load the data set by running the cell below. "
   ]
  },
  {
   "cell_type": "code",
   "execution_count": 6,
   "metadata": {
    "deletable": false,
    "editable": false,
    "nbgrader": {
     "cell_type": "code",
     "checksum": "c535f928097de7a0be570cd64eb27e0d",
     "grade": false,
     "grade_id": "cell-a9c8149f340b9a2b",
     "locked": true,
     "schema_version": 3,
     "solution": false,
     "task": false
    }
   },
   "outputs": [
    {
     "name": "stderr",
     "output_type": "stream",
     "text": [
      "\u001b[1mRows: \u001b[22m\u001b[34m600\u001b[39m \u001b[1mColumns: \u001b[22m\u001b[34m785\u001b[39m\n",
      "\u001b[36m──\u001b[39m \u001b[1mColumn specification\u001b[22m \u001b[36m────────────────────────────────────────────────────────\u001b[39m\n",
      "\u001b[1mDelimiter:\u001b[22m \",\"\n",
      "\u001b[32mdbl\u001b[39m (785): X, X1, X2, X3, X4, X5, X6, X7, X8, X9, X10, X11, X12, X13, X14, X...\n",
      "\n",
      "\u001b[36mℹ\u001b[39m Use `spec()` to retrieve the full column specification for this data.\n",
      "\u001b[36mℹ\u001b[39m Specify the column types or set `show_col_types = FALSE` to quiet this message.\n",
      "\u001b[1mRows: \u001b[22m\u001b[34m600\u001b[39m \u001b[1mColumns: \u001b[22m\u001b[34m785\u001b[39m\n",
      "\u001b[36m──\u001b[39m \u001b[1mColumn specification\u001b[22m \u001b[36m────────────────────────────────────────────────────────\u001b[39m\n",
      "\u001b[1mDelimiter:\u001b[22m \",\"\n",
      "\u001b[32mdbl\u001b[39m (785): X, X1, X2, X3, X4, X5, X6, X7, X8, X9, X10, X11, X12, X13, X14, X...\n",
      "\n",
      "\u001b[36mℹ\u001b[39m Use `spec()` to retrieve the full column specification for this data.\n",
      "\u001b[36mℹ\u001b[39m Specify the column types or set `show_col_types = FALSE` to quiet this message.\n"
     ]
    }
   ],
   "source": [
    "# Load images. \n",
    "# Run this cell. \n",
    "training_data <- read_csv('data/mnist_train_small.csv')\n",
    "testing_data  <- read_csv('data/mnist_test_small.csv')"
   ]
  },
  {
   "cell_type": "markdown",
   "metadata": {
    "deletable": false,
    "editable": false,
    "nbgrader": {
     "cell_type": "markdown",
     "checksum": "45a04f47c0b73e0095928c850286c264",
     "grade": false,
     "grade_id": "cell-5295dc267d5bafe5",
     "locked": true,
     "schema_version": 3,
     "solution": false,
     "task": false
    }
   },
   "source": [
    "Look at the first 6 rows of `training_data`. What do you notice?"
   ]
  },
  {
   "cell_type": "code",
   "execution_count": 7,
   "metadata": {
    "deletable": false,
    "editable": false,
    "nbgrader": {
     "cell_type": "code",
     "checksum": "47eab83ec71cbc5f24be9e97fa59992e",
     "grade": false,
     "grade_id": "cell-3acd9d89279d9fda",
     "locked": true,
     "schema_version": 3,
     "solution": false,
     "task": false
    }
   },
   "outputs": [
    {
     "data": {
      "text/html": [
       "<table class=\"dataframe\">\n",
       "<caption>A spec_tbl_df: 6 × 785</caption>\n",
       "<thead>\n",
       "\t<tr><th scope=col>X</th><th scope=col>X1</th><th scope=col>X2</th><th scope=col>X3</th><th scope=col>X4</th><th scope=col>X5</th><th scope=col>X6</th><th scope=col>X7</th><th scope=col>X8</th><th scope=col>X9</th><th scope=col>⋯</th><th scope=col>X775</th><th scope=col>X776</th><th scope=col>X777</th><th scope=col>X778</th><th scope=col>X779</th><th scope=col>X780</th><th scope=col>X781</th><th scope=col>X782</th><th scope=col>X783</th><th scope=col>X784</th></tr>\n",
       "\t<tr><th scope=col>&lt;dbl&gt;</th><th scope=col>&lt;dbl&gt;</th><th scope=col>&lt;dbl&gt;</th><th scope=col>&lt;dbl&gt;</th><th scope=col>&lt;dbl&gt;</th><th scope=col>&lt;dbl&gt;</th><th scope=col>&lt;dbl&gt;</th><th scope=col>&lt;dbl&gt;</th><th scope=col>&lt;dbl&gt;</th><th scope=col>&lt;dbl&gt;</th><th scope=col>⋯</th><th scope=col>&lt;dbl&gt;</th><th scope=col>&lt;dbl&gt;</th><th scope=col>&lt;dbl&gt;</th><th scope=col>&lt;dbl&gt;</th><th scope=col>&lt;dbl&gt;</th><th scope=col>&lt;dbl&gt;</th><th scope=col>&lt;dbl&gt;</th><th scope=col>&lt;dbl&gt;</th><th scope=col>&lt;dbl&gt;</th><th scope=col>&lt;dbl&gt;</th></tr>\n",
       "</thead>\n",
       "<tbody>\n",
       "\t<tr><td>1</td><td>0</td><td>0</td><td>0</td><td>0</td><td>0</td><td>0</td><td>0</td><td>0</td><td>0</td><td>⋯</td><td>0</td><td>0</td><td>0</td><td>0</td><td>0</td><td>0</td><td>0</td><td>0</td><td>0</td><td>0</td></tr>\n",
       "\t<tr><td>2</td><td>0</td><td>0</td><td>0</td><td>0</td><td>0</td><td>0</td><td>0</td><td>0</td><td>0</td><td>⋯</td><td>0</td><td>0</td><td>0</td><td>0</td><td>0</td><td>0</td><td>0</td><td>0</td><td>0</td><td>0</td></tr>\n",
       "\t<tr><td>3</td><td>0</td><td>0</td><td>0</td><td>0</td><td>0</td><td>0</td><td>0</td><td>0</td><td>0</td><td>⋯</td><td>0</td><td>0</td><td>0</td><td>0</td><td>0</td><td>0</td><td>0</td><td>0</td><td>0</td><td>0</td></tr>\n",
       "\t<tr><td>4</td><td>0</td><td>0</td><td>0</td><td>0</td><td>0</td><td>0</td><td>0</td><td>0</td><td>0</td><td>⋯</td><td>0</td><td>0</td><td>0</td><td>0</td><td>0</td><td>0</td><td>0</td><td>0</td><td>0</td><td>0</td></tr>\n",
       "\t<tr><td>5</td><td>0</td><td>0</td><td>0</td><td>0</td><td>0</td><td>0</td><td>0</td><td>0</td><td>0</td><td>⋯</td><td>0</td><td>0</td><td>0</td><td>0</td><td>0</td><td>0</td><td>0</td><td>0</td><td>0</td><td>0</td></tr>\n",
       "\t<tr><td>6</td><td>0</td><td>0</td><td>0</td><td>0</td><td>0</td><td>0</td><td>0</td><td>0</td><td>0</td><td>⋯</td><td>0</td><td>0</td><td>0</td><td>0</td><td>0</td><td>0</td><td>0</td><td>0</td><td>0</td><td>0</td></tr>\n",
       "</tbody>\n",
       "</table>\n"
      ],
      "text/latex": [
       "A spec\\_tbl\\_df: 6 × 785\n",
       "\\begin{tabular}{lllllllllllllllllllll}\n",
       " X & X1 & X2 & X3 & X4 & X5 & X6 & X7 & X8 & X9 & ⋯ & X775 & X776 & X777 & X778 & X779 & X780 & X781 & X782 & X783 & X784\\\\\n",
       " <dbl> & <dbl> & <dbl> & <dbl> & <dbl> & <dbl> & <dbl> & <dbl> & <dbl> & <dbl> & ⋯ & <dbl> & <dbl> & <dbl> & <dbl> & <dbl> & <dbl> & <dbl> & <dbl> & <dbl> & <dbl>\\\\\n",
       "\\hline\n",
       "\t 1 & 0 & 0 & 0 & 0 & 0 & 0 & 0 & 0 & 0 & ⋯ & 0 & 0 & 0 & 0 & 0 & 0 & 0 & 0 & 0 & 0\\\\\n",
       "\t 2 & 0 & 0 & 0 & 0 & 0 & 0 & 0 & 0 & 0 & ⋯ & 0 & 0 & 0 & 0 & 0 & 0 & 0 & 0 & 0 & 0\\\\\n",
       "\t 3 & 0 & 0 & 0 & 0 & 0 & 0 & 0 & 0 & 0 & ⋯ & 0 & 0 & 0 & 0 & 0 & 0 & 0 & 0 & 0 & 0\\\\\n",
       "\t 4 & 0 & 0 & 0 & 0 & 0 & 0 & 0 & 0 & 0 & ⋯ & 0 & 0 & 0 & 0 & 0 & 0 & 0 & 0 & 0 & 0\\\\\n",
       "\t 5 & 0 & 0 & 0 & 0 & 0 & 0 & 0 & 0 & 0 & ⋯ & 0 & 0 & 0 & 0 & 0 & 0 & 0 & 0 & 0 & 0\\\\\n",
       "\t 6 & 0 & 0 & 0 & 0 & 0 & 0 & 0 & 0 & 0 & ⋯ & 0 & 0 & 0 & 0 & 0 & 0 & 0 & 0 & 0 & 0\\\\\n",
       "\\end{tabular}\n"
      ],
      "text/markdown": [
       "\n",
       "A spec_tbl_df: 6 × 785\n",
       "\n",
       "| X &lt;dbl&gt; | X1 &lt;dbl&gt; | X2 &lt;dbl&gt; | X3 &lt;dbl&gt; | X4 &lt;dbl&gt; | X5 &lt;dbl&gt; | X6 &lt;dbl&gt; | X7 &lt;dbl&gt; | X8 &lt;dbl&gt; | X9 &lt;dbl&gt; | ⋯ ⋯ | X775 &lt;dbl&gt; | X776 &lt;dbl&gt; | X777 &lt;dbl&gt; | X778 &lt;dbl&gt; | X779 &lt;dbl&gt; | X780 &lt;dbl&gt; | X781 &lt;dbl&gt; | X782 &lt;dbl&gt; | X783 &lt;dbl&gt; | X784 &lt;dbl&gt; |\n",
       "|---|---|---|---|---|---|---|---|---|---|---|---|---|---|---|---|---|---|---|---|---|\n",
       "| 1 | 0 | 0 | 0 | 0 | 0 | 0 | 0 | 0 | 0 | ⋯ | 0 | 0 | 0 | 0 | 0 | 0 | 0 | 0 | 0 | 0 |\n",
       "| 2 | 0 | 0 | 0 | 0 | 0 | 0 | 0 | 0 | 0 | ⋯ | 0 | 0 | 0 | 0 | 0 | 0 | 0 | 0 | 0 | 0 |\n",
       "| 3 | 0 | 0 | 0 | 0 | 0 | 0 | 0 | 0 | 0 | ⋯ | 0 | 0 | 0 | 0 | 0 | 0 | 0 | 0 | 0 | 0 |\n",
       "| 4 | 0 | 0 | 0 | 0 | 0 | 0 | 0 | 0 | 0 | ⋯ | 0 | 0 | 0 | 0 | 0 | 0 | 0 | 0 | 0 | 0 |\n",
       "| 5 | 0 | 0 | 0 | 0 | 0 | 0 | 0 | 0 | 0 | ⋯ | 0 | 0 | 0 | 0 | 0 | 0 | 0 | 0 | 0 | 0 |\n",
       "| 6 | 0 | 0 | 0 | 0 | 0 | 0 | 0 | 0 | 0 | ⋯ | 0 | 0 | 0 | 0 | 0 | 0 | 0 | 0 | 0 | 0 |\n",
       "\n"
      ],
      "text/plain": [
       "  X X1 X2 X3 X4 X5 X6 X7 X8 X9 ⋯ X775 X776 X777 X778 X779 X780 X781 X782 X783\n",
       "1 1 0  0  0  0  0  0  0  0  0  ⋯ 0    0    0    0    0    0    0    0    0   \n",
       "2 2 0  0  0  0  0  0  0  0  0  ⋯ 0    0    0    0    0    0    0    0    0   \n",
       "3 3 0  0  0  0  0  0  0  0  0  ⋯ 0    0    0    0    0    0    0    0    0   \n",
       "4 4 0  0  0  0  0  0  0  0  0  ⋯ 0    0    0    0    0    0    0    0    0   \n",
       "5 5 0  0  0  0  0  0  0  0  0  ⋯ 0    0    0    0    0    0    0    0    0   \n",
       "6 6 0  0  0  0  0  0  0  0  0  ⋯ 0    0    0    0    0    0    0    0    0   \n",
       "  X784\n",
       "1 0   \n",
       "2 0   \n",
       "3 0   \n",
       "4 0   \n",
       "5 0   \n",
       "6 0   "
      ]
     },
     "metadata": {},
     "output_type": "display_data"
    },
    {
     "data": {
      "text/html": [
       "<style>\n",
       ".list-inline {list-style: none; margin:0; padding: 0}\n",
       ".list-inline>li {display: inline-block}\n",
       ".list-inline>li:not(:last-child)::after {content: \"\\00b7\"; padding: 0 .5ex}\n",
       "</style>\n",
       "<ol class=list-inline><li>600</li><li>785</li></ol>\n"
      ],
      "text/latex": [
       "\\begin{enumerate*}\n",
       "\\item 600\n",
       "\\item 785\n",
       "\\end{enumerate*}\n"
      ],
      "text/markdown": [
       "1. 600\n",
       "2. 785\n",
       "\n",
       "\n"
      ],
      "text/plain": [
       "[1] 600 785"
      ]
     },
     "metadata": {},
     "output_type": "display_data"
    }
   ],
   "source": [
    "slice(training_data, 1:6)\n",
    "dim(training_data)"
   ]
  },
  {
   "cell_type": "markdown",
   "metadata": {
    "deletable": false,
    "editable": false,
    "nbgrader": {
     "cell_type": "markdown",
     "checksum": "e35bcb4090a4b44c575bbbd5e07b2ed9",
     "grade": false,
     "grade_id": "cell-0e9a59683551c8cb",
     "locked": true,
     "schema_version": 3,
     "solution": false,
     "task": false
    }
   },
   "source": [
    "There are no class labels! This data set has already been split into the X's (which you loaded above) and the labels. In addition, there is an extra \"X\" column which represents the row number (1, 2, 3...). **Keep this in mind for now because we will remove it later on.** Now, let's load the labels."
   ]
  },
  {
   "cell_type": "code",
   "execution_count": 8,
   "metadata": {
    "deletable": false,
    "editable": false,
    "nbgrader": {
     "cell_type": "code",
     "checksum": "cf3e63412891a6ffb4e151ecd8e8e8d4",
     "grade": false,
     "grade_id": "cell-3bc6f550562af1e1",
     "locked": true,
     "schema_version": 3,
     "solution": false,
     "task": false
    }
   },
   "outputs": [
    {
     "name": "stderr",
     "output_type": "stream",
     "text": [
      "\u001b[1mRows: \u001b[22m\u001b[34m600\u001b[39m \u001b[1mColumns: \u001b[22m\u001b[34m2\u001b[39m\n",
      "\u001b[36m──\u001b[39m \u001b[1mColumn specification\u001b[22m \u001b[36m────────────────────────────────────────────────────────\u001b[39m\n",
      "\u001b[1mDelimiter:\u001b[22m \",\"\n",
      "\u001b[32mdbl\u001b[39m (2): X, y\n",
      "\n",
      "\u001b[36mℹ\u001b[39m Use `spec()` to retrieve the full column specification for this data.\n",
      "\u001b[36mℹ\u001b[39m Specify the column types or set `show_col_types = FALSE` to quiet this message.\n",
      "\u001b[1mRows: \u001b[22m\u001b[34m600\u001b[39m \u001b[1mColumns: \u001b[22m\u001b[34m2\u001b[39m\n",
      "\u001b[36m──\u001b[39m \u001b[1mColumn specification\u001b[22m \u001b[36m────────────────────────────────────────────────────────\u001b[39m\n",
      "\u001b[1mDelimiter:\u001b[22m \",\"\n",
      "\u001b[32mdbl\u001b[39m (2): X, y\n",
      "\n",
      "\u001b[36mℹ\u001b[39m Use `spec()` to retrieve the full column specification for this data.\n",
      "\u001b[36mℹ\u001b[39m Specify the column types or set `show_col_types = FALSE` to quiet this message.\n"
     ]
    }
   ],
   "source": [
    "# Run this cell. \n",
    "training_labels <- read_csv('data/mnist_train_label_small.csv')['y'] |> mutate(y = as_factor(y))\n",
    "testing_labels  <- read_csv('data/mnist_test_label_small.csv')['y'] |> mutate(y = as_factor(y))"
   ]
  },
  {
   "cell_type": "markdown",
   "metadata": {
    "deletable": false,
    "editable": false,
    "nbgrader": {
     "cell_type": "markdown",
     "checksum": "34f4ae8de37bdc334b54d244b71cf333",
     "grade": false,
     "grade_id": "cell-b8faa08c9dbf227a",
     "locked": true,
     "schema_version": 3,
     "solution": false,
     "task": false
    }
   },
   "source": [
    "Look at the first 6 labels of `training_labels` using the `slice(data_frame, 1:6)` function. "
   ]
  },
  {
   "cell_type": "code",
   "execution_count": 9,
   "metadata": {
    "deletable": false,
    "editable": false,
    "nbgrader": {
     "cell_type": "code",
     "checksum": "668640e8411feb925bc1491b55d98616",
     "grade": false,
     "grade_id": "cell-47c684f9f540a5f0",
     "locked": true,
     "schema_version": 3,
     "solution": false,
     "task": false
    }
   },
   "outputs": [
    {
     "data": {
      "text/html": [
       "<table class=\"dataframe\">\n",
       "<caption>A tibble: 6 × 1</caption>\n",
       "<thead>\n",
       "\t<tr><th scope=col>y</th></tr>\n",
       "\t<tr><th scope=col>&lt;fct&gt;</th></tr>\n",
       "</thead>\n",
       "<tbody>\n",
       "\t<tr><td>5</td></tr>\n",
       "\t<tr><td>0</td></tr>\n",
       "\t<tr><td>4</td></tr>\n",
       "\t<tr><td>1</td></tr>\n",
       "\t<tr><td>9</td></tr>\n",
       "\t<tr><td>2</td></tr>\n",
       "</tbody>\n",
       "</table>\n"
      ],
      "text/latex": [
       "A tibble: 6 × 1\n",
       "\\begin{tabular}{l}\n",
       " y\\\\\n",
       " <fct>\\\\\n",
       "\\hline\n",
       "\t 5\\\\\n",
       "\t 0\\\\\n",
       "\t 4\\\\\n",
       "\t 1\\\\\n",
       "\t 9\\\\\n",
       "\t 2\\\\\n",
       "\\end{tabular}\n"
      ],
      "text/markdown": [
       "\n",
       "A tibble: 6 × 1\n",
       "\n",
       "| y &lt;fct&gt; |\n",
       "|---|\n",
       "| 5 |\n",
       "| 0 |\n",
       "| 4 |\n",
       "| 1 |\n",
       "| 9 |\n",
       "| 2 |\n",
       "\n"
      ],
      "text/plain": [
       "  y\n",
       "1 5\n",
       "2 0\n",
       "3 4\n",
       "4 1\n",
       "5 9\n",
       "6 2"
      ]
     },
     "metadata": {},
     "output_type": "display_data"
    },
    {
     "data": {
      "text/html": [
       "<table class=\"dataframe\">\n",
       "<caption>A tibble: 6 × 1</caption>\n",
       "<thead>\n",
       "\t<tr><th scope=col>y</th></tr>\n",
       "\t<tr><th scope=col>&lt;fct&gt;</th></tr>\n",
       "</thead>\n",
       "<tbody>\n",
       "\t<tr><td>7</td></tr>\n",
       "\t<tr><td>2</td></tr>\n",
       "\t<tr><td>1</td></tr>\n",
       "\t<tr><td>0</td></tr>\n",
       "\t<tr><td>4</td></tr>\n",
       "\t<tr><td>1</td></tr>\n",
       "</tbody>\n",
       "</table>\n"
      ],
      "text/latex": [
       "A tibble: 6 × 1\n",
       "\\begin{tabular}{l}\n",
       " y\\\\\n",
       " <fct>\\\\\n",
       "\\hline\n",
       "\t 7\\\\\n",
       "\t 2\\\\\n",
       "\t 1\\\\\n",
       "\t 0\\\\\n",
       "\t 4\\\\\n",
       "\t 1\\\\\n",
       "\\end{tabular}\n"
      ],
      "text/markdown": [
       "\n",
       "A tibble: 6 × 1\n",
       "\n",
       "| y &lt;fct&gt; |\n",
       "|---|\n",
       "| 7 |\n",
       "| 2 |\n",
       "| 1 |\n",
       "| 0 |\n",
       "| 4 |\n",
       "| 1 |\n",
       "\n"
      ],
      "text/plain": [
       "  y\n",
       "1 7\n",
       "2 2\n",
       "3 1\n",
       "4 0\n",
       "5 4\n",
       "6 1"
      ]
     },
     "metadata": {},
     "output_type": "display_data"
    }
   ],
   "source": [
    "# Use this cell to view the first 6 labels.\n",
    "# Run this cell.\n",
    "slice(training_labels, 1:6)\n",
    "slice(testing_labels, 1:6)"
   ]
  },
  {
   "cell_type": "markdown",
   "metadata": {
    "deletable": false,
    "editable": false,
    "nbgrader": {
     "cell_type": "markdown",
     "checksum": "f009effee07a69a4810a987ed441053e",
     "grade": false,
     "grade_id": "cell-121c48480262cb02",
     "locked": true,
     "schema_version": 3,
     "solution": false
    }
   },
   "source": [
    "**Question 2.0**\n",
    "<br> {points: 1}\n",
    "\n",
    "How many rows does the training data set have? Note, each row is a different number in the postal code system. \n",
    "\n",
    "Use `nrow()`. Note, the testing data set should have fewer rows than the training data set.\n",
    "\n",
    "*Assign your answer to an object called `number_of_rows`. Make sure your answer is a numeric and so it should not be surrounded by quotation marks.*"
   ]
  },
  {
   "cell_type": "code",
   "execution_count": 10,
   "metadata": {
    "deletable": false,
    "nbgrader": {
     "cell_type": "code",
     "checksum": "f337b75746af02a845235c281b78caee",
     "grade": false,
     "grade_id": "cell-94a5205f6bdfcef1",
     "locked": false,
     "schema_version": 3,
     "solution": true
    }
   },
   "outputs": [
    {
     "data": {
      "text/html": [
       "600"
      ],
      "text/latex": [
       "600"
      ],
      "text/markdown": [
       "600"
      ],
      "text/plain": [
       "[1] 600"
      ]
     },
     "metadata": {},
     "output_type": "display_data"
    }
   ],
   "source": [
    "# Replace the fail() with your answer. \n",
    "number_of_rows <- nrow(training_data)\n",
    "# your code here\n",
    " # No Answer - remove if you provide an answer\n",
    "number_of_rows"
   ]
  },
  {
   "cell_type": "code",
   "execution_count": 11,
   "metadata": {
    "deletable": false,
    "editable": false,
    "nbgrader": {
     "cell_type": "code",
     "checksum": "c8c6c54c62494fead9c69a167e3d548f",
     "grade": true,
     "grade_id": "cell-0aef8bdec0794174",
     "locked": true,
     "points": 1,
     "schema_version": 3,
     "solution": false
    }
   },
   "outputs": [
    {
     "name": "stdout",
     "output_type": "stream",
     "text": [
      "\u001b[32mTest passed\u001b[39m 🥳\n",
      "\u001b[32mTest passed\u001b[39m 😸\n",
      "[1] \"Success!\"\n"
     ]
    }
   ],
   "source": [
    "test_2.0()"
   ]
  },
  {
   "cell_type": "markdown",
   "metadata": {
    "deletable": false,
    "editable": false,
    "nbgrader": {
     "cell_type": "markdown",
     "checksum": "ec021734baa85127370a5b57a25995b9",
     "grade": false,
     "grade_id": "cell-a33eec78947fd0d0",
     "locked": true,
     "schema_version": 3,
     "solution": false
    }
   },
   "source": [
    "**Question 2.1**\n",
    "<br> {points: 1}\n",
    "\n",
    "For mutli-class classification with k-nn it is important for the classes to have about the same number of observations in each class. For example, if  90% of our training set observationas were labeled as 2's, then k-nn classification predict 2 almost every time and we would get an accuracy score of 90% even though our classifier wasn't really doing a great job. \n",
    "\n",
    "Use the `group_by` and `summarize` function to get the counts for each group and see if the data set is balanced across the classes (has roughly equal numbers of observation for each class). Name the output `counts`. `counts` should be a data frame with 2 columns, `y` and `n` (the column `n` should have the counts for how many observations there were for each class group)."
   ]
  },
  {
   "cell_type": "code",
   "execution_count": 12,
   "metadata": {
    "deletable": false,
    "nbgrader": {
     "cell_type": "code",
     "checksum": "baaadae18c576856005db1a633343f6a",
     "grade": false,
     "grade_id": "cell-6324851b7968ef8d",
     "locked": false,
     "schema_version": 3,
     "solution": true
    }
   },
   "outputs": [
    {
     "data": {
      "text/html": [
       "<table class=\"dataframe\">\n",
       "<caption>A tibble: 10 × 2</caption>\n",
       "<thead>\n",
       "\t<tr><th scope=col>y</th><th scope=col>n</th></tr>\n",
       "\t<tr><th scope=col>&lt;fct&gt;</th><th scope=col>&lt;int&gt;</th></tr>\n",
       "</thead>\n",
       "<tbody>\n",
       "\t<tr><td>0</td><td>58</td></tr>\n",
       "\t<tr><td>1</td><td>69</td></tr>\n",
       "\t<tr><td>2</td><td>64</td></tr>\n",
       "\t<tr><td>⋮</td><td>⋮</td></tr>\n",
       "\t<tr><td>7</td><td>62</td></tr>\n",
       "\t<tr><td>8</td><td>54</td></tr>\n",
       "\t<tr><td>9</td><td>65</td></tr>\n",
       "</tbody>\n",
       "</table>\n"
      ],
      "text/latex": [
       "A tibble: 10 × 2\n",
       "\\begin{tabular}{ll}\n",
       " y & n\\\\\n",
       " <fct> & <int>\\\\\n",
       "\\hline\n",
       "\t 0 & 58\\\\\n",
       "\t 1 & 69\\\\\n",
       "\t 2 & 64\\\\\n",
       "\t ⋮ & ⋮\\\\\n",
       "\t 7 & 62\\\\\n",
       "\t 8 & 54\\\\\n",
       "\t 9 & 65\\\\\n",
       "\\end{tabular}\n"
      ],
      "text/markdown": [
       "\n",
       "A tibble: 10 × 2\n",
       "\n",
       "| y &lt;fct&gt; | n &lt;int&gt; |\n",
       "|---|---|\n",
       "| 0 | 58 |\n",
       "| 1 | 69 |\n",
       "| 2 | 64 |\n",
       "| ⋮ | ⋮ |\n",
       "| 7 | 62 |\n",
       "| 8 | 54 |\n",
       "| 9 | 65 |\n",
       "\n"
      ],
      "text/plain": [
       "   y n \n",
       "1  0 58\n",
       "2  1 69\n",
       "3  2 64\n",
       "⋮  ⋮ ⋮ \n",
       "8  7 62\n",
       "9  8 54\n",
       "10 9 65"
      ]
     },
     "metadata": {},
     "output_type": "display_data"
    },
    {
     "data": {
      "text/html": [
       "<table class=\"dataframe\">\n",
       "<caption>A tibble: 4 × 2</caption>\n",
       "<thead>\n",
       "\t<tr><th scope=col>y</th><th scope=col>n</th></tr>\n",
       "\t<tr><th scope=col>&lt;fct&gt;</th><th scope=col>&lt;int&gt;</th></tr>\n",
       "</thead>\n",
       "<tbody>\n",
       "\t<tr><td>3</td><td>59</td></tr>\n",
       "\t<tr><td>4</td><td>59</td></tr>\n",
       "\t<tr><td>5</td><td>56</td></tr>\n",
       "\t<tr><td>6</td><td>54</td></tr>\n",
       "</tbody>\n",
       "</table>\n"
      ],
      "text/latex": [
       "A tibble: 4 × 2\n",
       "\\begin{tabular}{ll}\n",
       " y & n\\\\\n",
       " <fct> & <int>\\\\\n",
       "\\hline\n",
       "\t 3 & 59\\\\\n",
       "\t 4 & 59\\\\\n",
       "\t 5 & 56\\\\\n",
       "\t 6 & 54\\\\\n",
       "\\end{tabular}\n"
      ],
      "text/markdown": [
       "\n",
       "A tibble: 4 × 2\n",
       "\n",
       "| y &lt;fct&gt; | n &lt;int&gt; |\n",
       "|---|---|\n",
       "| 3 | 59 |\n",
       "| 4 | 59 |\n",
       "| 5 | 56 |\n",
       "| 6 | 54 |\n",
       "\n"
      ],
      "text/plain": [
       "  y n \n",
       "1 3 59\n",
       "2 4 59\n",
       "3 5 56\n",
       "4 6 54"
      ]
     },
     "metadata": {},
     "output_type": "display_data"
    }
   ],
   "source": [
    "# Replace the fail() with your answer. \n",
    "counts <- training_labels |>\n",
    "          group_by(y) |>\n",
    "          summarize(n=n())\n",
    "# your code here\n",
    "# No Answer - remove if you provide an answer\n",
    "counts\n",
    "slice(counts, 4:7)"
   ]
  },
  {
   "cell_type": "code",
   "execution_count": 13,
   "metadata": {
    "deletable": false,
    "editable": false,
    "nbgrader": {
     "cell_type": "code",
     "checksum": "833703304be56bd1e631973c902b7266",
     "grade": true,
     "grade_id": "cell-dfc9ac244e23c2ce",
     "locked": true,
     "points": 1,
     "schema_version": 3,
     "solution": false
    }
   },
   "outputs": [
    {
     "name": "stdout",
     "output_type": "stream",
     "text": [
      "\u001b[32mTest passed\u001b[39m 😀\n",
      "[1] \"Success!\"\n"
     ]
    }
   ],
   "source": [
    "test_2.1()"
   ]
  },
  {
   "cell_type": "markdown",
   "metadata": {
    "deletable": false,
    "editable": false,
    "nbgrader": {
     "cell_type": "markdown",
     "checksum": "a420f1b1c5fb24d849c28b796dd43940",
     "grade": false,
     "grade_id": "cell-e00159c5a7b64c0c",
     "locked": true,
     "schema_version": 3,
     "solution": false
    }
   },
   "source": [
    "**Question 2.2** True or False:\n",
    "<br> {points: 1}\n",
    "\n",
    "The classes are not balanced. Some of them are *many times* larger or smaller than others. \n",
    "\n",
    "*Assign your answer to an object called `answer2.2`. Make sure your answer is in lowercase and is surrounded by quotation marks (e.g. `\"true\"` or `\"false\"`)*"
   ]
  },
  {
   "cell_type": "code",
   "execution_count": 14,
   "metadata": {
    "deletable": false,
    "nbgrader": {
     "cell_type": "code",
     "checksum": "0d4c6903c4dfbbd818cceb0a54d3e103",
     "grade": false,
     "grade_id": "cell-1752726ae2dba8d8",
     "locked": false,
     "schema_version": 3,
     "solution": true,
     "task": false
    }
   },
   "outputs": [],
   "source": [
    "# Replace the fail() with your answer. \n",
    "answer2.2 <- \"false\"\n",
    "# your code here\n",
    " # No Answer - remove if you provide an answer"
   ]
  },
  {
   "cell_type": "code",
   "execution_count": 15,
   "metadata": {
    "deletable": false,
    "editable": false,
    "nbgrader": {
     "cell_type": "code",
     "checksum": "71fe5bb811f190f333d2073e73ea38f1",
     "grade": true,
     "grade_id": "cell-bef5286ad6fd2de7",
     "locked": true,
     "points": 1,
     "schema_version": 3,
     "solution": false,
     "task": false
    }
   },
   "outputs": [
    {
     "name": "stdout",
     "output_type": "stream",
     "text": [
      "\u001b[32mTest passed\u001b[39m 🥳\n",
      "\u001b[32mTest passed\u001b[39m 🥳\n",
      "[1] \"Success!\"\n"
     ]
    }
   ],
   "source": [
    "test_2.2()"
   ]
  },
  {
   "cell_type": "markdown",
   "metadata": {
    "deletable": false,
    "editable": false,
    "nbgrader": {
     "cell_type": "markdown",
     "checksum": "9c797c8a20a6b30cf1999e29b38a5f5e",
     "grade": false,
     "grade_id": "cell-b8764501218e8fe2",
     "locked": true,
     "schema_version": 3,
     "solution": false,
     "task": false
    }
   },
   "source": [
    "To view an image in the notebook, you can use the `show_digit` function (we gave you the code for this function in the first code cell in the notebook, All you have to do to use it is run the cell below). The `show_digit` function takes the row from the dataset whose image you want to produce, which you can obtain using the `slice` function.\n",
    "\n",
    "The code we provide below will show you the image for the observation in the 200th row from the training data set. "
   ]
  },
  {
   "cell_type": "code",
   "execution_count": 16,
   "metadata": {
    "deletable": false,
    "editable": false,
    "nbgrader": {
     "cell_type": "code",
     "checksum": "b5c0ba4753d53c5c33a487c19e634ed8",
     "grade": false,
     "grade_id": "cell-ea620b7dc18dbef2",
     "locked": true,
     "schema_version": 3,
     "solution": false,
     "task": false
    }
   },
   "outputs": [
    {
     "data": {
      "image/png": "[encoded data removed]",
      "text/plain": [
       "plot without title"
      ]
     },
     "metadata": {
      "image/png": {
       "height": 300,
       "width": 300
      }
     },
     "output_type": "display_data"
    }
   ],
   "source": [
    "# Run this cell to get the images for the 200th row from the training data set.\n",
    "options(repr.plot.height = 5, repr.plot.width = 5)\n",
    "show_digit(slice(training_data, 200))"
   ]
  },
  {
   "cell_type": "markdown",
   "metadata": {
    "deletable": false,
    "editable": false,
    "nbgrader": {
     "cell_type": "markdown",
     "checksum": "41fa187c046baa731025680c675d8475",
     "grade": false,
     "grade_id": "cell-c160b79336eed6fd",
     "locked": true,
     "schema_version": 3,
     "solution": false
    }
   },
   "source": [
    "**Question 2.3** \n",
    "<br> {points: 3}\n",
    "\n",
    "Show the image for row 102."
   ]
  },
  {
   "cell_type": "code",
   "execution_count": 17,
   "metadata": {
    "deletable": false,
    "nbgrader": {
     "cell_type": "code",
     "checksum": "132909fdd5a62d9574bfa32271fef1bf",
     "grade": true,
     "grade_id": "cell-0ec57ff5f0b7ed54",
     "locked": false,
     "points": 3,
     "schema_version": 3,
     "solution": true
    }
   },
   "outputs": [
    {
     "data": {
      "text/html": [
       "<table class=\"dataframe\">\n",
       "<caption>A tibble: 1 × 1</caption>\n",
       "<thead>\n",
       "\t<tr><th scope=col>y</th></tr>\n",
       "\t<tr><th scope=col>&lt;fct&gt;</th></tr>\n",
       "</thead>\n",
       "<tbody>\n",
       "\t<tr><td>7</td></tr>\n",
       "</tbody>\n",
       "</table>\n"
      ],
      "text/latex": [
       "A tibble: 1 × 1\n",
       "\\begin{tabular}{l}\n",
       " y\\\\\n",
       " <fct>\\\\\n",
       "\\hline\n",
       "\t 7\\\\\n",
       "\\end{tabular}\n"
      ],
      "text/markdown": [
       "\n",
       "A tibble: 1 × 1\n",
       "\n",
       "| y &lt;fct&gt; |\n",
       "|---|\n",
       "| 7 |\n",
       "\n"
      ],
      "text/plain": [
       "  y\n",
       "1 7"
      ]
     },
     "metadata": {},
     "output_type": "display_data"
    },
    {
     "data": {
      "image/png": "[encoded data removed]",
      "text/plain": [
       "plot without title"
      ]
     },
     "metadata": {
      "image/png": {
       "height": 300,
       "width": 300
      }
     },
     "output_type": "display_data"
    }
   ],
   "source": [
    "options(repr.plot.height = 5, repr.plot.width = 5)\n",
    "\n",
    "# Replace the fail() with your answer. \n",
    "show_digit(slice(training_data,102))\n",
    "slice(training_labels,102)\n",
    "# your code here\n",
    " # No Answer - remove if you provide an answer"
   ]
  },
  {
   "cell_type": "markdown",
   "metadata": {
    "deletable": false,
    "editable": false,
    "nbgrader": {
     "cell_type": "markdown",
     "checksum": "a63d2c865c9baa57a96732f62f863c84",
     "grade": false,
     "grade_id": "cell-e3eb39a070c23ebe",
     "locked": true,
     "schema_version": 3,
     "solution": false,
     "task": false
    }
   },
   "source": [
    "If you are unsure as to what number the plot is depicting (because the handwriting is messy) you can use `slice` to get the label from the `training_labels`:"
   ]
  },
  {
   "cell_type": "code",
   "execution_count": 18,
   "metadata": {
    "deletable": false,
    "editable": false,
    "nbgrader": {
     "cell_type": "code",
     "checksum": "148961b57b0b5773c98f550ac981687f",
     "grade": false,
     "grade_id": "cell-ac471075633c9d1a",
     "locked": true,
     "schema_version": 3,
     "solution": false,
     "task": false
    }
   },
   "outputs": [
    {
     "data": {
      "text/html": [
       "<table class=\"dataframe\">\n",
       "<caption>A tibble: 1 × 1</caption>\n",
       "<thead>\n",
       "\t<tr><th scope=col>y</th></tr>\n",
       "\t<tr><th scope=col>&lt;fct&gt;</th></tr>\n",
       "</thead>\n",
       "<tbody>\n",
       "\t<tr><td>2</td></tr>\n",
       "</tbody>\n",
       "</table>\n"
      ],
      "text/latex": [
       "A tibble: 1 × 1\n",
       "\\begin{tabular}{l}\n",
       " y\\\\\n",
       " <fct>\\\\\n",
       "\\hline\n",
       "\t 2\\\\\n",
       "\\end{tabular}\n"
      ],
      "text/markdown": [
       "\n",
       "A tibble: 1 × 1\n",
       "\n",
       "| y &lt;fct&gt; |\n",
       "|---|\n",
       "| 2 |\n",
       "\n"
      ],
      "text/plain": [
       "  y\n",
       "1 2"
      ]
     },
     "metadata": {},
     "output_type": "display_data"
    }
   ],
   "source": [
    "# run this cell to get the training label for the 200th row\n",
    "training_labels |> \n",
    "    slice(200)"
   ]
  },
  {
   "cell_type": "markdown",
   "metadata": {
    "deletable": false,
    "editable": false,
    "nbgrader": {
     "cell_type": "markdown",
     "checksum": "39402905d3fe5bfcc333494a3ecb29d4",
     "grade": false,
     "grade_id": "cell-289e866b3e6e697f",
     "locked": true,
     "schema_version": 3,
     "solution": false
    }
   },
   "source": [
    "**Question 2.4** \n",
    "<br> {points: 1}\n",
    "\n",
    "What is the class label for row 102? Your answer should be a data frame with one column (named `y`) and one row.\n",
    "\n",
    "*Assign your answer to an object called `label_102`.*"
   ]
  },
  {
   "cell_type": "code",
   "execution_count": 19,
   "metadata": {
    "deletable": false,
    "nbgrader": {
     "cell_type": "code",
     "checksum": "3b53f576b8ee0faa5cc5d71c887d570f",
     "grade": false,
     "grade_id": "cell-2fa1179a92f569ee",
     "locked": false,
     "schema_version": 3,
     "solution": true
    }
   },
   "outputs": [
    {
     "data": {
      "text/html": [
       "<table class=\"dataframe\">\n",
       "<caption>A tibble: 1 × 1</caption>\n",
       "<thead>\n",
       "\t<tr><th scope=col>y</th></tr>\n",
       "\t<tr><th scope=col>&lt;fct&gt;</th></tr>\n",
       "</thead>\n",
       "<tbody>\n",
       "\t<tr><td>7</td></tr>\n",
       "</tbody>\n",
       "</table>\n"
      ],
      "text/latex": [
       "A tibble: 1 × 1\n",
       "\\begin{tabular}{l}\n",
       " y\\\\\n",
       " <fct>\\\\\n",
       "\\hline\n",
       "\t 7\\\\\n",
       "\\end{tabular}\n"
      ],
      "text/markdown": [
       "\n",
       "A tibble: 1 × 1\n",
       "\n",
       "| y &lt;fct&gt; |\n",
       "|---|\n",
       "| 7 |\n",
       "\n"
      ],
      "text/plain": [
       "  y\n",
       "1 7"
      ]
     },
     "metadata": {},
     "output_type": "display_data"
    }
   ],
   "source": [
    "# Replace the fail() with your answer. \n",
    "label_102 <- slice(training_labels,102)\n",
    "# your code here\n",
    " # No Answer - remove if you provide an answer\n",
    "label_102"
   ]
  },
  {
   "cell_type": "code",
   "execution_count": 20,
   "metadata": {
    "deletable": false,
    "editable": false,
    "nbgrader": {
     "cell_type": "code",
     "checksum": "9c09b521cbcf45312e4309d3b7bb45bd",
     "grade": true,
     "grade_id": "cell-e54d2a5882f92bd1",
     "locked": true,
     "points": 1,
     "schema_version": 3,
     "solution": false
    }
   },
   "outputs": [
    {
     "name": "stdout",
     "output_type": "stream",
     "text": [
      "\u001b[32mTest passed\u001b[39m 🥳\n",
      "\u001b[32mTest passed\u001b[39m 🌈\n",
      "\u001b[32mTest passed\u001b[39m 🥳\n",
      "\u001b[32mTest passed\u001b[39m 😸\n",
      "[1] \"Success!\"\n"
     ]
    }
   ],
   "source": [
    "test_2.4()"
   ]
  },
  {
   "cell_type": "markdown",
   "metadata": {
    "deletable": false,
    "editable": false,
    "nbgrader": {
     "cell_type": "markdown",
     "checksum": "c13abf39abf5c0fda468cb0e37cef8e9",
     "grade": false,
     "grade_id": "cell-eeb98658f3a9e923",
     "locked": true,
     "schema_version": 3,
     "solution": false
    }
   },
   "source": [
    "## 3. Splitting the Data"
   ]
  },
  {
   "cell_type": "markdown",
   "metadata": {
    "deletable": false,
    "editable": false,
    "nbgrader": {
     "cell_type": "markdown",
     "checksum": "49e754ea8bcf2bb606c3a6add3e3601a",
     "grade": false,
     "grade_id": "cell-8e7319af6b9403ea",
     "locked": true,
     "schema_version": 3,
     "solution": false
    }
   },
   "source": [
    "**Question 3.0**\n",
    "<br> {points: 1}\n",
    "\n",
    "Currently, the image data and labels are split. The `tidymodels` package needs the image data and labels to be combined together in one data frame. Given that the image data and labels are in the same order, we can use the `bind_cols` function to combine them. Name the training image data with its respective labels `training_set` and name the testing image data with its respective labels `testing_set`. \n",
    "\n",
    "> Note: even though the entire data set has been split for you already into a training and a test set, don't forget to do this in the future for other data sets where this is not the case. Remember, you need to have a training and testing data set when designing a useful k-nn classification model. \n",
    "\n",
    "Also, remember in Section 2 that we told you to keep something in mind? To remind you, there is an extra \"X\" column on the far left which represents the row numbers (1, 2, 3, etc.) in the `training_set`. **This column should not be used for training.** Therefore, let's remove this column from the data set. \n",
    "\n",
    "*Hint: You can remove columns in a dataset using the `select` function and by putting a negative sign infront of the column you want to exclude (e.g. `-X`)*."
   ]
  },
  {
   "cell_type": "code",
   "execution_count": 21,
   "metadata": {
    "deletable": false,
    "nbgrader": {
     "cell_type": "code",
     "checksum": "75583e32f93c1fceb227f41c5e419fdb",
     "grade": false,
     "grade_id": "cell-7ed04d8612d530f4",
     "locked": false,
     "schema_version": 3,
     "solution": true,
     "task": false
    }
   },
   "outputs": [
    {
     "data": {
      "text/html": [
       "<table class=\"dataframe\">\n",
       "<caption>A tibble: 600 × 785</caption>\n",
       "<thead>\n",
       "\t<tr><th scope=col>X1</th><th scope=col>X2</th><th scope=col>X3</th><th scope=col>X4</th><th scope=col>X5</th><th scope=col>X6</th><th scope=col>X7</th><th scope=col>X8</th><th scope=col>X9</th><th scope=col>X10</th><th scope=col>⋯</th><th scope=col>X776</th><th scope=col>X777</th><th scope=col>X778</th><th scope=col>X779</th><th scope=col>X780</th><th scope=col>X781</th><th scope=col>X782</th><th scope=col>X783</th><th scope=col>X784</th><th scope=col>y</th></tr>\n",
       "\t<tr><th scope=col>&lt;dbl&gt;</th><th scope=col>&lt;dbl&gt;</th><th scope=col>&lt;dbl&gt;</th><th scope=col>&lt;dbl&gt;</th><th scope=col>&lt;dbl&gt;</th><th scope=col>&lt;dbl&gt;</th><th scope=col>&lt;dbl&gt;</th><th scope=col>&lt;dbl&gt;</th><th scope=col>&lt;dbl&gt;</th><th scope=col>&lt;dbl&gt;</th><th scope=col>⋯</th><th scope=col>&lt;dbl&gt;</th><th scope=col>&lt;dbl&gt;</th><th scope=col>&lt;dbl&gt;</th><th scope=col>&lt;dbl&gt;</th><th scope=col>&lt;dbl&gt;</th><th scope=col>&lt;dbl&gt;</th><th scope=col>&lt;dbl&gt;</th><th scope=col>&lt;dbl&gt;</th><th scope=col>&lt;dbl&gt;</th><th scope=col>&lt;fct&gt;</th></tr>\n",
       "</thead>\n",
       "<tbody>\n",
       "\t<tr><td>0</td><td>0</td><td>0</td><td>0</td><td>0</td><td>0</td><td>0</td><td>0</td><td>0</td><td>0</td><td>⋯</td><td>0</td><td>0</td><td>0</td><td>0</td><td>0</td><td>0</td><td>0</td><td>0</td><td>0</td><td>5</td></tr>\n",
       "\t<tr><td>0</td><td>0</td><td>0</td><td>0</td><td>0</td><td>0</td><td>0</td><td>0</td><td>0</td><td>0</td><td>⋯</td><td>0</td><td>0</td><td>0</td><td>0</td><td>0</td><td>0</td><td>0</td><td>0</td><td>0</td><td>0</td></tr>\n",
       "\t<tr><td>0</td><td>0</td><td>0</td><td>0</td><td>0</td><td>0</td><td>0</td><td>0</td><td>0</td><td>0</td><td>⋯</td><td>0</td><td>0</td><td>0</td><td>0</td><td>0</td><td>0</td><td>0</td><td>0</td><td>0</td><td>4</td></tr>\n",
       "\t<tr><td>⋮</td><td>⋮</td><td>⋮</td><td>⋮</td><td>⋮</td><td>⋮</td><td>⋮</td><td>⋮</td><td>⋮</td><td>⋮</td><td>⋱</td><td>⋮</td><td>⋮</td><td>⋮</td><td>⋮</td><td>⋮</td><td>⋮</td><td>⋮</td><td>⋮</td><td>⋮</td><td>⋮</td></tr>\n",
       "\t<tr><td>0</td><td>0</td><td>0</td><td>0</td><td>0</td><td>0</td><td>0</td><td>0</td><td>0</td><td>0</td><td>⋯</td><td>0</td><td>0</td><td>0</td><td>0</td><td>0</td><td>0</td><td>0</td><td>0</td><td>0</td><td>6</td></tr>\n",
       "\t<tr><td>0</td><td>0</td><td>0</td><td>0</td><td>0</td><td>0</td><td>0</td><td>0</td><td>0</td><td>0</td><td>⋯</td><td>0</td><td>0</td><td>0</td><td>0</td><td>0</td><td>0</td><td>0</td><td>0</td><td>0</td><td>6</td></tr>\n",
       "\t<tr><td>0</td><td>0</td><td>0</td><td>0</td><td>0</td><td>0</td><td>0</td><td>0</td><td>0</td><td>0</td><td>⋯</td><td>0</td><td>0</td><td>0</td><td>0</td><td>0</td><td>0</td><td>0</td><td>0</td><td>0</td><td>7</td></tr>\n",
       "</tbody>\n",
       "</table>\n"
      ],
      "text/latex": [
       "A tibble: 600 × 785\n",
       "\\begin{tabular}{lllllllllllllllllllll}\n",
       " X1 & X2 & X3 & X4 & X5 & X6 & X7 & X8 & X9 & X10 & ⋯ & X776 & X777 & X778 & X779 & X780 & X781 & X782 & X783 & X784 & y\\\\\n",
       " <dbl> & <dbl> & <dbl> & <dbl> & <dbl> & <dbl> & <dbl> & <dbl> & <dbl> & <dbl> & ⋯ & <dbl> & <dbl> & <dbl> & <dbl> & <dbl> & <dbl> & <dbl> & <dbl> & <dbl> & <fct>\\\\\n",
       "\\hline\n",
       "\t 0 & 0 & 0 & 0 & 0 & 0 & 0 & 0 & 0 & 0 & ⋯ & 0 & 0 & 0 & 0 & 0 & 0 & 0 & 0 & 0 & 5\\\\\n",
       "\t 0 & 0 & 0 & 0 & 0 & 0 & 0 & 0 & 0 & 0 & ⋯ & 0 & 0 & 0 & 0 & 0 & 0 & 0 & 0 & 0 & 0\\\\\n",
       "\t 0 & 0 & 0 & 0 & 0 & 0 & 0 & 0 & 0 & 0 & ⋯ & 0 & 0 & 0 & 0 & 0 & 0 & 0 & 0 & 0 & 4\\\\\n",
       "\t ⋮ & ⋮ & ⋮ & ⋮ & ⋮ & ⋮ & ⋮ & ⋮ & ⋮ & ⋮ & ⋱ & ⋮ & ⋮ & ⋮ & ⋮ & ⋮ & ⋮ & ⋮ & ⋮ & ⋮ & ⋮\\\\\n",
       "\t 0 & 0 & 0 & 0 & 0 & 0 & 0 & 0 & 0 & 0 & ⋯ & 0 & 0 & 0 & 0 & 0 & 0 & 0 & 0 & 0 & 6\\\\\n",
       "\t 0 & 0 & 0 & 0 & 0 & 0 & 0 & 0 & 0 & 0 & ⋯ & 0 & 0 & 0 & 0 & 0 & 0 & 0 & 0 & 0 & 6\\\\\n",
       "\t 0 & 0 & 0 & 0 & 0 & 0 & 0 & 0 & 0 & 0 & ⋯ & 0 & 0 & 0 & 0 & 0 & 0 & 0 & 0 & 0 & 7\\\\\n",
       "\\end{tabular}\n"
      ],
      "text/markdown": [
       "\n",
       "A tibble: 600 × 785\n",
       "\n",
       "| X1 &lt;dbl&gt; | X2 &lt;dbl&gt; | X3 &lt;dbl&gt; | X4 &lt;dbl&gt; | X5 &lt;dbl&gt; | X6 &lt;dbl&gt; | X7 &lt;dbl&gt; | X8 &lt;dbl&gt; | X9 &lt;dbl&gt; | X10 &lt;dbl&gt; | ⋯ ⋯ | X776 &lt;dbl&gt; | X777 &lt;dbl&gt; | X778 &lt;dbl&gt; | X779 &lt;dbl&gt; | X780 &lt;dbl&gt; | X781 &lt;dbl&gt; | X782 &lt;dbl&gt; | X783 &lt;dbl&gt; | X784 &lt;dbl&gt; | y &lt;fct&gt; |\n",
       "|---|---|---|---|---|---|---|---|---|---|---|---|---|---|---|---|---|---|---|---|---|\n",
       "| 0 | 0 | 0 | 0 | 0 | 0 | 0 | 0 | 0 | 0 | ⋯ | 0 | 0 | 0 | 0 | 0 | 0 | 0 | 0 | 0 | 5 |\n",
       "| 0 | 0 | 0 | 0 | 0 | 0 | 0 | 0 | 0 | 0 | ⋯ | 0 | 0 | 0 | 0 | 0 | 0 | 0 | 0 | 0 | 0 |\n",
       "| 0 | 0 | 0 | 0 | 0 | 0 | 0 | 0 | 0 | 0 | ⋯ | 0 | 0 | 0 | 0 | 0 | 0 | 0 | 0 | 0 | 4 |\n",
       "| ⋮ | ⋮ | ⋮ | ⋮ | ⋮ | ⋮ | ⋮ | ⋮ | ⋮ | ⋮ | ⋱ | ⋮ | ⋮ | ⋮ | ⋮ | ⋮ | ⋮ | ⋮ | ⋮ | ⋮ | ⋮ |\n",
       "| 0 | 0 | 0 | 0 | 0 | 0 | 0 | 0 | 0 | 0 | ⋯ | 0 | 0 | 0 | 0 | 0 | 0 | 0 | 0 | 0 | 6 |\n",
       "| 0 | 0 | 0 | 0 | 0 | 0 | 0 | 0 | 0 | 0 | ⋯ | 0 | 0 | 0 | 0 | 0 | 0 | 0 | 0 | 0 | 6 |\n",
       "| 0 | 0 | 0 | 0 | 0 | 0 | 0 | 0 | 0 | 0 | ⋯ | 0 | 0 | 0 | 0 | 0 | 0 | 0 | 0 | 0 | 7 |\n",
       "\n"
      ],
      "text/plain": [
       "    X1 X2 X3 X4 X5 X6 X7 X8 X9 X10 ⋯ X776 X777 X778 X779 X780 X781 X782 X783\n",
       "1   0  0  0  0  0  0  0  0  0  0   ⋯ 0    0    0    0    0    0    0    0   \n",
       "2   0  0  0  0  0  0  0  0  0  0   ⋯ 0    0    0    0    0    0    0    0   \n",
       "3   0  0  0  0  0  0  0  0  0  0   ⋯ 0    0    0    0    0    0    0    0   \n",
       "⋮   ⋮  ⋮  ⋮  ⋮  ⋮  ⋮  ⋮  ⋮  ⋮  ⋮   ⋱ ⋮    ⋮    ⋮    ⋮    ⋮    ⋮    ⋮    ⋮   \n",
       "598 0  0  0  0  0  0  0  0  0  0   ⋯ 0    0    0    0    0    0    0    0   \n",
       "599 0  0  0  0  0  0  0  0  0  0   ⋯ 0    0    0    0    0    0    0    0   \n",
       "600 0  0  0  0  0  0  0  0  0  0   ⋯ 0    0    0    0    0    0    0    0   \n",
       "    X784 y\n",
       "1   0    5\n",
       "2   0    0\n",
       "3   0    4\n",
       "⋮   ⋮    ⋮\n",
       "598 0    6\n",
       "599 0    6\n",
       "600 0    7"
      ]
     },
     "metadata": {},
     "output_type": "display_data"
    }
   ],
   "source": [
    "# Set the seed. Don't remove this!\n",
    "set.seed(9999) \n",
    "\n",
    "#... <- bind_cols(..., ...) |> # for the training data\n",
    "#        select(...)\n",
    "training_set <- bind_cols(training_data,training_labels) |>\n",
    "                select(-X)\n",
    "#... <- bind_cols(..., ...) # for the testing data\n",
    "testing_set <- bind_cols(testing_data,testing_labels) \n",
    "# your code here\n",
    "# No Answer - remove if you provide an answer\n",
    "training_set"
   ]
  },
  {
   "cell_type": "code",
   "execution_count": 22,
   "metadata": {
    "deletable": false,
    "editable": false,
    "nbgrader": {
     "cell_type": "code",
     "checksum": "a324c290aa16b675bd05bacdcd6e9377",
     "grade": true,
     "grade_id": "cell-930d3ef15a5b523d",
     "locked": true,
     "points": 1,
     "schema_version": 3,
     "solution": false,
     "task": false
    }
   },
   "outputs": [
    {
     "name": "stdout",
     "output_type": "stream",
     "text": [
      "\u001b[32mTest passed\u001b[39m 🎉\n",
      "\u001b[32mTest passed\u001b[39m 😀\n",
      "\u001b[32mTest passed\u001b[39m 😀\n",
      "\u001b[32mTest passed\u001b[39m 😸\n",
      "[1] \"Success!\"\n"
     ]
    }
   ],
   "source": [
    "test_3.0()"
   ]
  },
  {
   "cell_type": "markdown",
   "metadata": {
    "deletable": false,
    "editable": false,
    "nbgrader": {
     "cell_type": "markdown",
     "checksum": "7041023873d68390a18d9d919011503b",
     "grade": false,
     "grade_id": "cell-df4772461e83d1c9",
     "locked": true,
     "schema_version": 3,
     "solution": false
    }
   },
   "source": [
    "**Question 3.1**\n",
    "<br> {points: 3}\n",
    "\n",
    "We have already split the data into two datasets, one for training purposes and one for testing purposes. **Is it important to split the data into a training and testing dataset when designing a knn classification model?** If yes, why do we do this? If no, explain why this is not a good idea."
   ]
  },
  {
   "cell_type": "markdown",
   "metadata": {
    "deletable": false,
    "nbgrader": {
     "cell_type": "markdown",
     "checksum": "bb5f87ba5750a590bf5c6231ec8215aa",
     "grade": true,
     "grade_id": "cell-887389384414f1c1",
     "locked": false,
     "points": 3,
     "schema_version": 3,
     "solution": true,
     "task": false
    }
   },
   "source": [
    "It is important to split the data into a training and testing dataset because if you train the classifcation model on a dataset where the answers are avaliable, the model will not be \"properly\" trained and will not be accurate. If the datasets were split, the model could use the training set and  validated with the testing set to see the accuracy of the model."
   ]
  },
  {
   "cell_type": "markdown",
   "metadata": {
    "deletable": false,
    "editable": false,
    "nbgrader": {
     "cell_type": "markdown",
     "checksum": "6dda57b8a79aeb3d3302a057a6487756",
     "grade": false,
     "grade_id": "cell-22cc98b4c3ed05b5",
     "locked": true,
     "schema_version": 3,
     "solution": false
    }
   },
   "source": [
    "## Which $k$ should we use?\n",
    "\n",
    "As you learned from the worksheet, we can use cross-validation on the training data set to select which $k$ is the most optimal for our data set for k-nn classification. "
   ]
  },
  {
   "cell_type": "markdown",
   "metadata": {
    "deletable": false,
    "editable": false,
    "nbgrader": {
     "cell_type": "markdown",
     "checksum": "cb38e74f82a05b16121da5403a820328",
     "grade": false,
     "grade_id": "cell-a19c883460a4f6f7",
     "locked": true,
     "schema_version": 3,
     "solution": false
    }
   },
   "source": [
    "**Question 3.2**\n",
    "<br> {points: 1}\n",
    "\n",
    "To get all the marks in this question, you will have to:\n",
    "- Create a recipe that uses all predictors and a model specification with tuning on the number of neighbours (**Note: You don't need to scale or center this data**)\n",
    "- Perform a 5-fold cross-validation on the training set\n",
    "- Create a workflow analysis with your recipe and model specification and *specify that the tuning should try 10 values of $K$* \n",
    "- Collect the metrics from the workflow analysis \n",
    "- Plot the $k$ vs the accuracy\n",
    "    - Assign this plot to an object called `cross_val_plot`"
   ]
  },
  {
   "cell_type": "code",
   "execution_count": 28,
   "metadata": {
    "deletable": false,
    "nbgrader": {
     "cell_type": "code",
     "checksum": "7d1450aae96004115130e830887a3d60",
     "grade": false,
     "grade_id": "cell-b202e81559613b62",
     "locked": false,
     "schema_version": 3,
     "solution": true,
     "task": false
    }
   },
   "outputs": [
    {
     "data": {
      "image/png": "[encoded data removed]",
      "text/plain": [
       "plot without title"
      ]
     },
     "metadata": {
      "image/png": {
       "height": 300,
       "width": 360
      }
     },
     "output_type": "display_data"
    }
   ],
   "source": [
    "# Set the seed. Don't remove this!\n",
    "set.seed(1234) \n",
    "\n",
    "options(repr.plot.height = 5, repr.plot.width = 6)\n",
    "digit_recipe <- recipe(y~.,data=training_set)\n",
    "digit_vfold <- vfold_cv(training_set,v=5,strata=y)\n",
    "digit_spec <- nearest_neighbor(weight_func=\"rectangular\",neighbors=tune()) |>\n",
    "              set_engine(\"kknn\")|>\n",
    "              set_mode(\"classification\")\n",
    "digit_fit <- workflow() |>\n",
    "            add_recipe(digit_recipe) |>\n",
    "            add_model(digit_spec)|>\n",
    "            tune_grid(resamples=digit_vfold,grid=10) |>\n",
    "            collect_metrics()\n",
    "accuracies <- digit_fit |>\n",
    "              filter(.metric == \"accuracy\")\n",
    "cross_val_plot <- ggplot(accuracies,aes(x=neighbors,y=mean))+\n",
    "                  geom_point() +\n",
    "                  geom_line() +\n",
    "                  labs(x=\"Neighbors\",y=\"Accuracy estimate\") +\n",
    "                  scale_x_continuous(breaks = seq(0,14,by=1))\n",
    "cross_val_plot\n",
    "# your code here\n",
    " # No Answer - remove if you provide an answer"
   ]
  },
  {
   "cell_type": "code",
   "execution_count": null,
   "metadata": {},
   "outputs": [],
   "source": []
  },
  {
   "cell_type": "code",
   "execution_count": 27,
   "metadata": {
    "deletable": false,
    "editable": false,
    "nbgrader": {
     "cell_type": "code",
     "checksum": "264ae96f99c9cf85d3d3005c30ea5225",
     "grade": true,
     "grade_id": "cell-a555ad05c7d7fdcb",
     "locked": true,
     "points": 1,
     "schema_version": 3,
     "solution": false,
     "task": false
    }
   },
   "outputs": [
    {
     "name": "stdout",
     "output_type": "stream",
     "text": [
      "\u001b[32mTest passed\u001b[39m 🥇\n",
      "\u001b[32mTest passed\u001b[39m 🥇\n",
      "\u001b[32mTest passed\u001b[39m 🎊\n",
      "\u001b[32mTest passed\u001b[39m 🥇\n",
      "\u001b[32mTest passed\u001b[39m 🥳\n",
      "\u001b[32mTest passed\u001b[39m 🥇\n",
      "[1] \"Success!\"\n"
     ]
    }
   ],
   "source": [
    "test_3.2()"
   ]
  },
  {
   "cell_type": "markdown",
   "metadata": {
    "deletable": false,
    "editable": false,
    "nbgrader": {
     "cell_type": "markdown",
     "checksum": "db7779499465ec50f3c16d31951ab919",
     "grade": false,
     "grade_id": "cell-fc3c04fd7f0d5d5f",
     "locked": true,
     "schema_version": 3,
     "solution": false,
     "task": false
    }
   },
   "source": [
    "**Question 3.3**\n",
    "<br> {points: 3}\n",
    "\n",
    "Based on the plot from **Question 3.2**, which $k$ would you choose and how can you be sure about your decision? In your answer you should reference why we do cross-validation."
   ]
  },
  {
   "cell_type": "markdown",
   "metadata": {
    "deletable": false,
    "nbgrader": {
     "cell_type": "markdown",
     "checksum": "84ee2229d39d8c31738e259e055bfe63",
     "grade": true,
     "grade_id": "cell-60e47e1dc46c55d0",
     "locked": false,
     "points": 3,
     "schema_version": 3,
     "solution": true,
     "task": false
    }
   },
   "source": [
    "Based on the plot above we would choose k to be 3 .This is because it has the highest accuracy estimate for the about of knn closest neighbors number, we use cross validation because it is essentialy testing and training the model on different k values by splitting the training set into smaller training and testing sets."
   ]
  },
  {
   "cell_type": "markdown",
   "metadata": {
    "deletable": false,
    "editable": false,
    "nbgrader": {
     "cell_type": "markdown",
     "checksum": "6188b12dbff09bb85e3bdbe947107f46",
     "grade": false,
     "grade_id": "cell-d8a437411c4d4e44",
     "locked": true,
     "schema_version": 3,
     "solution": false
    }
   },
   "source": [
    "## 4. Let's build our model\n",
    "\n",
    "**Question 4.0**\n",
    "<br> {points: 3}\n",
    "\n",
    "Now that we have explored our data, separated the data into training and testing sets (was technically done for you), and applied cross-validation to choose the best $k$, we can build our final model.\n",
    "\n",
    "First, build your model specification with the best value for $K$. Assign your answer to an object called `mnist_spec`.\n",
    "\n",
    "Then, pass the model specification and the training data set to the `fit()` function. Assign your answer to an object called `mnist_fit`."
   ]
  },
  {
   "cell_type": "code",
   "execution_count": 34,
   "metadata": {
    "deletable": false,
    "nbgrader": {
     "cell_type": "code",
     "checksum": "02c5e485d875e69cd415798968daaa8b",
     "grade": false,
     "grade_id": "cell-ef0258111eeb88ed",
     "locked": false,
     "schema_version": 3,
     "solution": true,
     "task": false
    }
   },
   "outputs": [],
   "source": [
    "# Set the seed. Don't remove this!\n",
    "set.seed(9999) \n",
    "mnist_spec <- nearest_neighbor(weight_func=\"rectangular\",neighbors=3) |>\n",
    "              set_engine(\"kknn\") |>\n",
    "              set_mode(\"classification\")\n",
    "mnist_fit <- workflow() |>\n",
    "              add_recipe(digit_recipe)|>\n",
    "              add_model(mnist_spec) |>\n",
    "              fit(data=training_set)\n",
    "# your code here\n",
    " # No Answer - remove if you provide an answer"
   ]
  },
  {
   "cell_type": "code",
   "execution_count": 35,
   "metadata": {
    "deletable": false,
    "editable": false,
    "nbgrader": {
     "cell_type": "code",
     "checksum": "5b04ccf2cc7cd2b8e3da5561fe0621f2",
     "grade": true,
     "grade_id": "cell-e599a16a81e3003a",
     "locked": true,
     "points": 3,
     "schema_version": 3,
     "solution": false,
     "task": false
    }
   },
   "outputs": [
    {
     "name": "stdout",
     "output_type": "stream",
     "text": [
      "\u001b[32mTest passed\u001b[39m 🎉\n",
      "\u001b[32mTest passed\u001b[39m 😀\n"
     ]
    }
   ],
   "source": [
    "test_that('Did not create an object named mnist_spec', {\n",
    "    expect_true(exists(\"mnist_spec\"))\n",
    "    })\n",
    "test_that('Did not create an object named mnist_fit', {\n",
    "    expect_true(exists(\"mnist_fit\")) \n",
    "    })\n"
   ]
  },
  {
   "cell_type": "markdown",
   "metadata": {
    "deletable": false,
    "editable": false,
    "nbgrader": {
     "cell_type": "markdown",
     "checksum": "f69a9071bb3517c94338a9d83cf78e0e",
     "grade": false,
     "grade_id": "cell-097f339e6f489355",
     "locked": true,
     "schema_version": 3,
     "solution": false
    }
   },
   "source": [
    "**Question 4.1**\n",
    "<br> {points: 1}\n",
    "\n",
    "Use your final model to predict on the test dataset and assign this to an object called `mnist_predictions`. Report the accuracy of this prediction, and store this in an object named `mnist_metrics`. Also report the confusion matrix and and store this in an object named `mnist_conf_mat`. "
   ]
  },
  {
   "cell_type": "code",
   "execution_count": 59,
   "metadata": {
    "deletable": false,
    "nbgrader": {
     "cell_type": "code",
     "checksum": "cd14739d62e584293db324bb00599de9",
     "grade": false,
     "grade_id": "cell-0e192eaef00a5d98",
     "locked": false,
     "schema_version": 3,
     "solution": true,
     "task": false
    }
   },
   "outputs": [
    {
     "data": {
      "text/plain": [
       "          Truth\n",
       "Prediction  0  1  2  3  4  5  6  7  8  9\n",
       "         0 51  0  1  0  0  1  2  0  3  0\n",
       "         1  0 71 11  2  2  1  1  2  3  0\n",
       "         2  0  0 34  4  1  0  3  2  3  0\n",
       "         3  1  0  3 49  1  7  0  2  1  2\n",
       "         4  0  0  1  0 46  2  3  0  2  5\n",
       "         5  0  0  0  4  1 36  0  0  3  0\n",
       "         6  0  0  2  0  2  1 41  0  1  0\n",
       "         7  0  0  8  2  2  1  0 32  0  5\n",
       "         8  1  2  4  1  0  6  2  1 32  0\n",
       "         9  0  0  0  0 12  1  0 18  4 52"
      ]
     },
     "metadata": {},
     "output_type": "display_data"
    },
    {
     "data": {
      "text/html": [
       "<table class=\"dataframe\">\n",
       "<caption>A tibble: 1 × 3</caption>\n",
       "<thead>\n",
       "\t<tr><th scope=col>.metric</th><th scope=col>.estimator</th><th scope=col>.estimate</th></tr>\n",
       "\t<tr><th scope=col>&lt;chr&gt;</th><th scope=col>&lt;chr&gt;</th><th scope=col>&lt;dbl&gt;</th></tr>\n",
       "</thead>\n",
       "<tbody>\n",
       "\t<tr><td>accuracy</td><td>multiclass</td><td>0.74</td></tr>\n",
       "</tbody>\n",
       "</table>\n"
      ],
      "text/latex": [
       "A tibble: 1 × 3\n",
       "\\begin{tabular}{lll}\n",
       " .metric & .estimator & .estimate\\\\\n",
       " <chr> & <chr> & <dbl>\\\\\n",
       "\\hline\n",
       "\t accuracy & multiclass & 0.74\\\\\n",
       "\\end{tabular}\n"
      ],
      "text/markdown": [
       "\n",
       "A tibble: 1 × 3\n",
       "\n",
       "| .metric &lt;chr&gt; | .estimator &lt;chr&gt; | .estimate &lt;dbl&gt; |\n",
       "|---|---|---|\n",
       "| accuracy | multiclass | 0.74 |\n",
       "\n"
      ],
      "text/plain": [
       "  .metric  .estimator .estimate\n",
       "1 accuracy multiclass 0.74     "
      ]
     },
     "metadata": {},
     "output_type": "display_data"
    }
   ],
   "source": [
    "# Set the seed. Don't remove this!\n",
    "set.seed(9999) \n",
    "mnist_predictions <- predict(mnist_fit,testing_set) |>\n",
    "                     bind_cols(testing_set)\n",
    "mnist_metrics <- mnist_predictions|>\n",
    "                 metrics(truth=y,estimate=.pred_class)|>\n",
    "                 filter(.metric==\"accuracy\")\n",
    "mnist_conf_mat <- mnist_predictions |>\n",
    "                  conf_mat(truth=y,estimate=.pred_class)\n",
    "mnist_conf_mat\n",
    "mnist_metrics\n",
    "# your code here\n",
    "# No Answer - remove if you provide an answer"
   ]
  },
  {
   "cell_type": "code",
   "execution_count": 43,
   "metadata": {
    "deletable": false,
    "editable": false,
    "nbgrader": {
     "cell_type": "code",
     "checksum": "2a0c182c1fc1cf030a725a2b456d329c",
     "grade": true,
     "grade_id": "cell-5690538e24ee5653",
     "locked": true,
     "points": 1,
     "schema_version": 3,
     "solution": false,
     "task": false
    }
   },
   "outputs": [
    {
     "name": "stdout",
     "output_type": "stream",
     "text": [
      "\u001b[32mTest passed\u001b[39m 🎉\n",
      "\u001b[32mTest passed\u001b[39m 😀\n",
      "\u001b[32mTest passed\u001b[39m 😀\n",
      "\u001b[32mTest passed\u001b[39m 😸\n",
      "\u001b[32mTest passed\u001b[39m 🥳\n",
      "\u001b[32mTest passed\u001b[39m 🥳\n",
      "\u001b[32mTest passed\u001b[39m 🎉\n",
      "\u001b[32mTest passed\u001b[39m 🎊\n",
      "[1] \"Success!\"\n"
     ]
    }
   ],
   "source": [
    "test_4.1()"
   ]
  },
  {
   "cell_type": "markdown",
   "metadata": {
    "deletable": false,
    "editable": false,
    "nbgrader": {
     "cell_type": "markdown",
     "checksum": "8e3bc30633ba8845ad0f3b4625470665",
     "grade": false,
     "grade_id": "cell-6909f8d2f907b5ab",
     "locked": true,
     "schema_version": 3,
     "solution": false
    }
   },
   "source": [
    "**Question 4.2**\n",
    "<br> {points: 3}\n",
    "\n",
    "For this exercise, print out 3 images and the true labels from the test set that were predicted correctly. \n",
    "\n",
    "To approach this exercise, we will first create a data frame that contains the predictions, and the labels from the testing set. We will want to use this data to find cases where the hand written digits were predicted correctly (i.e., any rows where the values in the predicted class label column, `.pred_class`, match the test set labels, `y`). We will then want to use this information to go back to the original data and extract images that correspond to these correct predictions. \n",
    "\n",
    "To keep track of which rows correspond to which images, we will use `mutate` to add a column called `seq`. This will order the rows, from 1 to $n$ (where $n$ is the number of images in the test set), and be useful to keep track of which rows correspond to which images when we do something to the data frame, for example, filter it to find correctly predicted labels. Scaffolding has been provided below for you. Assign your answer to an object called `mnist_predictions_with_labels`. \n",
    "\n",
    "From this data frame, filter for cases of equality between the predictions, `.pred_class`, and testing set labels, `y`. Essentially, you want to find cases where the predictions match the testing set labels. Sample 3 rows of data using `sample_n`. Assign your answer to an object called `matching`. \n",
    "\n",
    "Next, we want to extract the row numbers (`seq`) from the `matching` data frame to input them into the `show_digit` function. The scaffolding to extract the data from the first row and the associated row number is provided below. Assign your answers respectively to `matching_1`, `matching_2`, and `matching_3`. \n",
    "\n",
    "*Use `show_digit` to visualize the digits indexed by `matching_1`, `matching_2`, and `matching_3` to see what they look like!*"
   ]
  },
  {
   "cell_type": "code",
   "execution_count": 45,
   "metadata": {
    "deletable": false,
    "nbgrader": {
     "cell_type": "code",
     "checksum": "cea4a8af9d61b144491abf867b4536c4",
     "grade": false,
     "grade_id": "cell-0e9c5f1971016180",
     "locked": false,
     "schema_version": 3,
     "solution": true,
     "task": false
    }
   },
   "outputs": [
    {
     "data": {
      "image/png": "[encoded data removed]",
      "text/plain": [
       "plot without title"
      ]
     },
     "metadata": {
      "image/png": {
       "height": 300,
       "width": 360
      }
     },
     "output_type": "display_data"
    },
    {
     "data": {
      "image/png": "[encoded data removed]",
      "text/plain": [
       "plot without title"
      ]
     },
     "metadata": {
      "image/png": {
       "height": 300,
       "width": 360
      }
     },
     "output_type": "display_data"
    },
    {
     "data": {
      "image/png": "[encoded data removed]",
      "text/plain": [
       "plot without title"
      ]
     },
     "metadata": {
      "image/png": {
       "height": 300,
       "width": 360
      }
     },
     "output_type": "display_data"
    }
   ],
   "source": [
    "# Set the seed. Don't remove this!\n",
    "set.seed(1000) \n",
    "\n",
    "mnist_predictions_with_labels <- mnist_predictions |>\n",
    "      select(.pred_class) |>\n",
    "      bind_cols(testing_set |> select(-X)) |>\n",
    "      mutate(seq = 1:nrow(testing_set)) |>\n",
    "      as.data.frame()\n",
    "\n",
    "matching <- mnist_predictions_with_labels |>\n",
    "         filter(.pred_class == y) |>\n",
    "         sample_n(3) \n",
    "\n",
    "matching_1 <- matching |>\n",
    "         slice(1) |>\n",
    "         select(seq) |>\n",
    "         pull()\n",
    "matching_2 <- matching |>\n",
    "         slice(2) |>\n",
    "         select(seq) |>\n",
    "         pull()\n",
    "\n",
    "matching_3 <- matching |>\n",
    "         slice(3) |>\n",
    "         select(seq) |>\n",
    "         pull()\n",
    "\n",
    "\n",
    "show_digit(slice(testing_data, matching_1))\n",
    "show_digit(slice(testing_data, matching_2))\n",
    "show_digit(slice(testing_data, matching_3))\n",
    "\n",
    "options(repr.plot.height = 5, repr.plot.width = 5)\n",
    "\n",
    "# your code here\n",
    "# No Answer - remove if you provide an answer"
   ]
  },
  {
   "cell_type": "code",
   "execution_count": 46,
   "metadata": {
    "deletable": false,
    "editable": false,
    "nbgrader": {
     "cell_type": "code",
     "checksum": "d62a506608e9dd352d60d556692375c1",
     "grade": true,
     "grade_id": "cell-86bd96b4dc6eab40",
     "locked": true,
     "points": 3,
     "schema_version": 3,
     "solution": false,
     "task": false
    }
   },
   "outputs": [
    {
     "name": "stdout",
     "output_type": "stream",
     "text": [
      "\u001b[32mTest passed\u001b[39m 😸\n",
      "\u001b[32mTest passed\u001b[39m 🥇\n",
      "\u001b[32mTest passed\u001b[39m 😸\n",
      "\u001b[32mTest passed\u001b[39m 🥇\n",
      "\u001b[32mTest passed\u001b[39m 🥳\n"
     ]
    }
   ],
   "source": [
    "test_that('Did not create an object named mnist_predictions_with_labels', {\n",
    "    expect_true(exists('mnist_predictions_with_labels'))\n",
    "})\n",
    "test_that('Did not create an object named matching', {\n",
    "    expect_true(exists('matching'))\n",
    "})\n",
    "test_that('Did not create an object called matching_1', {\n",
    "    expect_true(exists('matching_1'))\n",
    "})\n",
    "test_that('Did not create an object called matching_2', {\n",
    "    expect_true(exists('matching_2'))\n",
    "})\n",
    "test_that('Did not create an object called matching_3', {\n",
    "    expect_true(exists('matching_3'))\n",
    "})\n"
   ]
  },
  {
   "cell_type": "markdown",
   "metadata": {
    "deletable": false,
    "editable": false,
    "nbgrader": {
     "cell_type": "markdown",
     "checksum": "46a494e352609797088ebe7fe874c7f3",
     "grade": false,
     "grade_id": "cell-9c5f324193a29613",
     "locked": true,
     "schema_version": 3,
     "solution": false
    }
   },
   "source": [
    "**Question 4.3**\n",
    "<br> {points: 1}\n",
    "\n",
    "Print out 3 images and true labels from the test set that were **NOT** predicted correctly. You can reuse the `mnist_predictions_with_labels` data frame from **Question 4.2**. \n",
    "\n",
    "Filter for inequality between the predictions and the labels for the testing set in a data frame called `not_matching`. Afterwards, extract the row number and assign them to `not_matching_1`, `not_matching_2`, and `not_matching_3` respectively. If you need help, refer to the instructions in **Question 4.2**. \n",
    "\n",
    "Similar to the previous question, use the `show_digit` function we gave you above to print out the images."
   ]
  },
  {
   "cell_type": "code",
   "execution_count": 52,
   "metadata": {
    "deletable": false,
    "nbgrader": {
     "cell_type": "code",
     "checksum": "a671fda500eb758bb84feee7b9c400cc",
     "grade": false,
     "grade_id": "cell-bc7fc6b54d89ef3b",
     "locked": false,
     "schema_version": 3,
     "solution": true,
     "task": false
    }
   },
   "outputs": [
    {
     "data": {
      "image/png": "[encoded data removed]",
      "text/plain": [
       "plot without title"
      ]
     },
     "metadata": {
      "image/png": {
       "height": 300,
       "width": 300
      }
     },
     "output_type": "display_data"
    },
    {
     "data": {
      "image/png": "[encoded data removed]",
      "text/plain": [
       "plot without title"
      ]
     },
     "metadata": {
      "image/png": {
       "height": 300,
       "width": 300
      }
     },
     "output_type": "display_data"
    },
    {
     "data": {
      "text/html": [
       "<table class=\"dataframe\">\n",
       "<caption>A tibble: 3 × 1</caption>\n",
       "<thead>\n",
       "\t<tr><th scope=col>y</th></tr>\n",
       "\t<tr><th scope=col>&lt;fct&gt;</th></tr>\n",
       "</thead>\n",
       "<tbody>\n",
       "\t<tr><td>7</td></tr>\n",
       "\t<tr><td>2</td></tr>\n",
       "\t<tr><td>1</td></tr>\n",
       "</tbody>\n",
       "</table>\n"
      ],
      "text/latex": [
       "A tibble: 3 × 1\n",
       "\\begin{tabular}{l}\n",
       " y\\\\\n",
       " <fct>\\\\\n",
       "\\hline\n",
       "\t 7\\\\\n",
       "\t 2\\\\\n",
       "\t 1\\\\\n",
       "\\end{tabular}\n"
      ],
      "text/markdown": [
       "\n",
       "A tibble: 3 × 1\n",
       "\n",
       "| y &lt;fct&gt; |\n",
       "|---|\n",
       "| 7 |\n",
       "| 2 |\n",
       "| 1 |\n",
       "\n"
      ],
      "text/plain": [
       "  y\n",
       "1 7\n",
       "2 2\n",
       "3 1"
      ]
     },
     "metadata": {},
     "output_type": "display_data"
    },
    {
     "data": {
      "image/png": "[encoded data removed]",
      "text/plain": [
       "plot without title"
      ]
     },
     "metadata": {
      "image/png": {
       "height": 300,
       "width": 300
      }
     },
     "output_type": "display_data"
    }
   ],
   "source": [
    "# Set the seed. Don't remove this!\n",
    "set.seed(3500) \n",
    "\n",
    "options(repr.plot.height = 5, repr.plot.width = 5)\n",
    "not_matching <- mnist_predictions_with_labels |>\n",
    "       filter(.pred_class != y) |>\n",
    "       sample_n(3)\n",
    "not_matching_1 <- not_matching |>\n",
    "                  slice(1)|>\n",
    "                  select(seq)|>\n",
    "                  pull()\n",
    "not_matching_2 <- not_matching |>\n",
    "                  slice(2)|>\n",
    "                  select(seq)|>\n",
    "                  pull()\n",
    "not_matching_3 <- not_matching |>\n",
    "                  slice(3)|>\n",
    "                  select(seq)|>\n",
    "                  pull()\n",
    "show_digit(slice(testing_data, not_matching_1))\n",
    "show_digit(slice(testing_data, not_matching_2))\n",
    "show_digit(slice(testing_data, not_matching_3))\n",
    "\n",
    "testing_labels |>\n",
    "            slice(1:3)\n",
    "# your code here\n",
    "# No Answer - remove if you provide an answer"
   ]
  },
  {
   "cell_type": "code",
   "execution_count": 53,
   "metadata": {
    "deletable": false,
    "editable": false,
    "nbgrader": {
     "cell_type": "code",
     "checksum": "a821078220358a435cde41825075ebc7",
     "grade": true,
     "grade_id": "cell-b925b109b4ec7f4d",
     "locked": true,
     "points": 3,
     "schema_version": 3,
     "solution": false,
     "task": false
    }
   },
   "outputs": [
    {
     "name": "stdout",
     "output_type": "stream",
     "text": [
      "\u001b[32mTest passed\u001b[39m 🌈\n",
      "\u001b[32mTest passed\u001b[39m 🌈\n",
      "\u001b[32mTest passed\u001b[39m 🥳\n",
      "\u001b[32mTest passed\u001b[39m 🥳\n"
     ]
    }
   ],
   "source": [
    "test_that('Did not create an object named not_matching', {\n",
    "    expect_true(exists('not_matching'))\n",
    "})\n",
    "test_that('Did not create an object called not_matching_1', {\n",
    "    expect_true(exists('not_matching_1'))\n",
    "})\n",
    "test_that('Did not create an object called not_matching_2', {\n",
    "    expect_true(exists('not_matching_2'))\n",
    "})\n",
    "test_that('Did not create an object called not_matching_3', {\n",
    "    expect_true(exists('not_matching_3'))\n",
    "})\n"
   ]
  },
  {
   "cell_type": "markdown",
   "metadata": {
    "deletable": false,
    "editable": false,
    "nbgrader": {
     "cell_type": "markdown",
     "checksum": "46ae2aa71bbb88b61c0fcac72737c02e",
     "grade": false,
     "grade_id": "cell-c5a6da2601c50147",
     "locked": true,
     "schema_version": 3,
     "solution": false
    }
   },
   "source": [
    "**Question 4.4** True or False:\n",
    "<br> {points: 1}\n",
    "\n",
    "The above images were predicted incorrectly due to messy handwriting. For example, the second image is illegible and actually looks like the letter \"U\".\n",
    "\n",
    "*Assign your answer to an object called `answer4.4`. Make sure your answer is in lowercase and is surrounded by quotation marks (e.g. `\"true\"` or `\"false\"`).*"
   ]
  },
  {
   "cell_type": "code",
   "execution_count": 56,
   "metadata": {
    "deletable": false,
    "nbgrader": {
     "cell_type": "code",
     "checksum": "7100fdeb7e56e074febdbb019e5a9540",
     "grade": false,
     "grade_id": "cell-e104bb1ba6a2272b",
     "locked": false,
     "schema_version": 3,
     "solution": true,
     "task": false
    }
   },
   "outputs": [],
   "source": [
    "# Replace the fail() with your answer. \n",
    "answer4.4 <- \"true\"\n",
    "# your code here\n",
    "# No Answer - remove if you provide an answer"
   ]
  },
  {
   "cell_type": "code",
   "execution_count": 57,
   "metadata": {
    "deletable": false,
    "editable": false,
    "nbgrader": {
     "cell_type": "code",
     "checksum": "0afaf0b77dddfc93ba6a73bc482400bf",
     "grade": true,
     "grade_id": "cell-d1152d82e07b60e2",
     "locked": true,
     "points": 1,
     "schema_version": 3,
     "solution": false,
     "task": false
    }
   },
   "outputs": [
    {
     "name": "stdout",
     "output_type": "stream",
     "text": [
      "\u001b[32mTest passed\u001b[39m 😀\n",
      "\u001b[32mTest passed\u001b[39m 🌈\n",
      "[1] \"Success!\"\n"
     ]
    }
   ],
   "source": [
    "test_4.4()"
   ]
  },
  {
   "cell_type": "markdown",
   "metadata": {
    "deletable": false,
    "editable": false,
    "nbgrader": {
     "cell_type": "markdown",
     "checksum": "3bc5aa2bec4b3b9348f2c949f21b99c9",
     "grade": false,
     "grade_id": "cell-36f596caca403aaf",
     "locked": true,
     "schema_version": 3,
     "solution": false
    }
   },
   "source": [
    "**Question 4.5**\n",
    "<br> {points: 3}\n",
    "\n",
    "Looking again at the results from **Question 4.1**, what does this accuracy mean? Is it good enough that you would use this model for the Canada Post? Can you imagine a way we might improve our classifier's accuracy?"
   ]
  },
  {
   "cell_type": "markdown",
   "metadata": {
    "deletable": false,
    "nbgrader": {
     "cell_type": "markdown",
     "checksum": "79096e04d74f84b6644e6e8bdce8e212",
     "grade": true,
     "grade_id": "cell-86ae152b9a99ea34",
     "locked": false,
     "points": 3,
     "schema_version": 3,
     "solution": true,
     "task": false
    }
   },
   "source": [
    "This accuracy means that on average the model is able to correctly identify the digits 74% of the time. While this is not a bad accuracy, possibly losing 26% of packages is not a suitable option for Canada Post. Giving the classifer more data to train and test on could possibly increase the accuracy."
   ]
  },
  {
   "cell_type": "code",
   "execution_count": 61,
   "metadata": {
    "deletable": false,
    "editable": false,
    "nbgrader": {
     "cell_type": "code",
     "checksum": "a67efe270f10735708d0232758bad40a",
     "grade": false,
     "grade_id": "cell-097f2cdb5ac59a83",
     "locked": true,
     "schema_version": 3,
     "solution": false,
     "task": false
    }
   },
   "outputs": [],
   "source": [
    "source(\"cleanup.R\")"
   ]
  },
  {
   "cell_type": "code",
   "execution_count": null,
   "metadata": {},
   "outputs": [],
   "source": []
  }
 ],
 "metadata": {
  "kernelspec": {
   "display_name": "R",
   "language": "R",
   "name": "ir"
  },
  "language_info": {
   "codemirror_mode": "r",
   "file_extension": ".r",
   "mimetype": "text/x-r-source",
   "name": "R",
   "pygments_lexer": "r",
   "version": "4.1.3"
  }
 },
 "nbformat": 4,
 "nbformat_minor": 4
}
